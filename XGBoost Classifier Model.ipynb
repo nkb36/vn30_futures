{
 "cells": [
  {
   "cell_type": "code",
   "execution_count": 1,
   "id": "cb671eb5-9d80-4bc0-8647-f8e79a9f05cd",
   "metadata": {},
   "outputs": [],
   "source": [
    "import pandas as pd\n",
    "import numpy as np\n",
    "import matplotlib.pyplot as plt\n",
    "\n",
    "import warnings\n",
    "warnings.filterwarnings(\"ignore\")"
   ]
  },
  {
   "cell_type": "markdown",
   "id": "aaef4978-6a7f-47aa-946e-8daa389b9603",
   "metadata": {},
   "source": [
    "### Importing data and grabbing important features"
   ]
  },
  {
   "cell_type": "code",
   "execution_count": 2,
   "id": "d90e2cbf-3d5d-4dad-998c-be735558ce26",
   "metadata": {},
   "outputs": [],
   "source": [
    "vn30f_1min = pd.read_csv(r\"../data/VN30F1M_1min_cleaned.csv\",parse_dates=[0],index_col=0)\n",
    "vn30_1min = pd.read_csv(r\"../data/VN30_1min_cleaned.csv\",parse_dates=[0],index_col=0)"
   ]
  },
  {
   "cell_type": "code",
   "execution_count": 3,
   "id": "6589f4d2-e8c9-495d-a99b-2d4c80887b67",
   "metadata": {},
   "outputs": [],
   "source": [
    "vn30f_1min = vn30f_1min[['close', 'volume', 'buy_volume', 'sell_volume', 'days_to_maturity', 'day_of_week']]\n",
    "vn30_1min = vn30_1min['close'].to_frame()"
   ]
  },
  {
   "cell_type": "code",
   "execution_count": 4,
   "id": "38610219-89a8-41c8-bd03-5f6d393bdf5f",
   "metadata": {},
   "outputs": [],
   "source": [
    "df = vn30_1min.merge(vn30f_1min, how='left', left_index=True, right_index=True,  suffixes=('_spot', '_future'))"
   ]
  },
  {
   "cell_type": "code",
   "execution_count": 5,
   "id": "71f73bb5-2167-4145-9336-56cdbf222565",
   "metadata": {},
   "outputs": [],
   "source": [
    "df[\"future_spread\"] = df[\"close_future\"] - df[\"close_spot\"] "
   ]
  },
  {
   "cell_type": "code",
   "execution_count": 6,
   "id": "f2fd6fc4-4107-44bb-81cb-d4a1a6151fc1",
   "metadata": {},
   "outputs": [],
   "source": [
    "df[\"net_volume\"] = df[\"buy_volume\"] - df[\"sell_volume\"]"
   ]
  },
  {
   "cell_type": "code",
   "execution_count": 7,
   "id": "8181624b-27a5-4f10-b985-ca3a27e5a1cf",
   "metadata": {},
   "outputs": [],
   "source": [
    "df[\"cum_sum_volume\"] = df[\"volume\"].groupby(pd.Grouper(freq='D')).cumsum()\n",
    "df[\"cum_buy_volume\"] = df[\"buy_volume\"].groupby(pd.Grouper(freq='D')).cumsum()\n",
    "df[\"cum_sell_volume\"] = df[\"sell_volume\"].groupby(pd.Grouper(freq='D')).cumsum()"
   ]
  },
  {
   "cell_type": "code",
   "execution_count": 8,
   "id": "c53b2919-4a81-4db0-a2c0-06ffb3b16543",
   "metadata": {},
   "outputs": [],
   "source": [
    "df[\"hour\"] = df.index.hour\n",
    "df[\"minute\"] = df.index.minute"
   ]
  },
  {
   "cell_type": "code",
   "execution_count": 9,
   "id": "41120c87-dbfc-4d08-baa4-1284f2942b19",
   "metadata": {},
   "outputs": [
    {
     "data": {
      "text/html": [
       "<div>\n",
       "<style scoped>\n",
       "    .dataframe tbody tr th:only-of-type {\n",
       "        vertical-align: middle;\n",
       "    }\n",
       "\n",
       "    .dataframe tbody tr th {\n",
       "        vertical-align: top;\n",
       "    }\n",
       "\n",
       "    .dataframe thead th {\n",
       "        text-align: right;\n",
       "    }\n",
       "</style>\n",
       "<table border=\"1\" class=\"dataframe\">\n",
       "  <thead>\n",
       "    <tr style=\"text-align: right;\">\n",
       "      <th></th>\n",
       "      <th>close_spot</th>\n",
       "      <th>close_future</th>\n",
       "      <th>volume</th>\n",
       "      <th>buy_volume</th>\n",
       "      <th>sell_volume</th>\n",
       "      <th>days_to_maturity</th>\n",
       "      <th>day_of_week</th>\n",
       "      <th>future_spread</th>\n",
       "      <th>net_volume</th>\n",
       "      <th>cum_sum_volume</th>\n",
       "      <th>cum_buy_volume</th>\n",
       "      <th>cum_sell_volume</th>\n",
       "      <th>hour</th>\n",
       "      <th>minute</th>\n",
       "    </tr>\n",
       "  </thead>\n",
       "  <tbody>\n",
       "    <tr>\n",
       "      <th>count</th>\n",
       "      <td>139442.000000</td>\n",
       "      <td>139442.000000</td>\n",
       "      <td>139442.000000</td>\n",
       "      <td>139442.000000</td>\n",
       "      <td>139442.000000</td>\n",
       "      <td>139442.000000</td>\n",
       "      <td>139442.000000</td>\n",
       "      <td>139442.00000</td>\n",
       "      <td>139442.000000</td>\n",
       "      <td>139442.000000</td>\n",
       "      <td>139442.000000</td>\n",
       "      <td>139442.000000</td>\n",
       "      <td>139442.000000</td>\n",
       "      <td>139442.000000</td>\n",
       "    </tr>\n",
       "    <tr>\n",
       "      <th>mean</th>\n",
       "      <td>1280.321300</td>\n",
       "      <td>1277.953211</td>\n",
       "      <td>928.786291</td>\n",
       "      <td>497.722824</td>\n",
       "      <td>430.614112</td>\n",
       "      <td>11.701783</td>\n",
       "      <td>2.011345</td>\n",
       "      <td>-2.36809</td>\n",
       "      <td>67.108712</td>\n",
       "      <td>91130.957222</td>\n",
       "      <td>48728.909382</td>\n",
       "      <td>42349.012091</td>\n",
       "      <td>11.287611</td>\n",
       "      <td>27.079646</td>\n",
       "    </tr>\n",
       "    <tr>\n",
       "      <th>std</th>\n",
       "      <td>190.251386</td>\n",
       "      <td>190.726628</td>\n",
       "      <td>778.125674</td>\n",
       "      <td>491.345557</td>\n",
       "      <td>438.418695</td>\n",
       "      <td>7.502714</td>\n",
       "      <td>1.406704</td>\n",
       "      <td>6.40272</td>\n",
       "      <td>511.432865</td>\n",
       "      <td>78301.500694</td>\n",
       "      <td>42938.283704</td>\n",
       "      <td>35844.903844</td>\n",
       "      <td>1.804996</td>\n",
       "      <td>16.639464</td>\n",
       "    </tr>\n",
       "    <tr>\n",
       "      <th>min</th>\n",
       "      <td>863.710000</td>\n",
       "      <td>861.600000</td>\n",
       "      <td>1.000000</td>\n",
       "      <td>0.000000</td>\n",
       "      <td>0.000000</td>\n",
       "      <td>1.000000</td>\n",
       "      <td>0.000000</td>\n",
       "      <td>-35.69000</td>\n",
       "      <td>-12183.000000</td>\n",
       "      <td>88.000000</td>\n",
       "      <td>0.000000</td>\n",
       "      <td>0.000000</td>\n",
       "      <td>9.000000</td>\n",
       "      <td>0.000000</td>\n",
       "    </tr>\n",
       "    <tr>\n",
       "      <th>25%</th>\n",
       "      <td>1086.012500</td>\n",
       "      <td>1082.800000</td>\n",
       "      <td>400.000000</td>\n",
       "      <td>178.000000</td>\n",
       "      <td>151.000000</td>\n",
       "      <td>6.000000</td>\n",
       "      <td>1.000000</td>\n",
       "      <td>-6.04000</td>\n",
       "      <td>-136.000000</td>\n",
       "      <td>33095.250000</td>\n",
       "      <td>17324.000000</td>\n",
       "      <td>15572.000000</td>\n",
       "      <td>10.000000</td>\n",
       "      <td>14.000000</td>\n",
       "    </tr>\n",
       "    <tr>\n",
       "      <th>50%</th>\n",
       "      <td>1274.190000</td>\n",
       "      <td>1268.350000</td>\n",
       "      <td>704.000000</td>\n",
       "      <td>348.000000</td>\n",
       "      <td>300.000000</td>\n",
       "      <td>11.000000</td>\n",
       "      <td>2.000000</td>\n",
       "      <td>-2.20000</td>\n",
       "      <td>37.000000</td>\n",
       "      <td>71068.000000</td>\n",
       "      <td>37504.500000</td>\n",
       "      <td>33300.000000</td>\n",
       "      <td>11.000000</td>\n",
       "      <td>25.000000</td>\n",
       "    </tr>\n",
       "    <tr>\n",
       "      <th>75%</th>\n",
       "      <td>1478.450000</td>\n",
       "      <td>1479.900000</td>\n",
       "      <td>1208.000000</td>\n",
       "      <td>643.000000</td>\n",
       "      <td>560.000000</td>\n",
       "      <td>17.000000</td>\n",
       "      <td>3.000000</td>\n",
       "      <td>1.21000</td>\n",
       "      <td>246.000000</td>\n",
       "      <td>125878.750000</td>\n",
       "      <td>66878.750000</td>\n",
       "      <td>58685.000000</td>\n",
       "      <td>13.000000</td>\n",
       "      <td>41.000000</td>\n",
       "    </tr>\n",
       "    <tr>\n",
       "      <th>max</th>\n",
       "      <td>1586.630000</td>\n",
       "      <td>1576.700000</td>\n",
       "      <td>16149.000000</td>\n",
       "      <td>16009.000000</td>\n",
       "      <td>12183.000000</td>\n",
       "      <td>37.000000</td>\n",
       "      <td>4.000000</td>\n",
       "      <td>36.01000</td>\n",
       "      <td>15869.000000</td>\n",
       "      <td>590379.000000</td>\n",
       "      <td>329729.000000</td>\n",
       "      <td>260650.000000</td>\n",
       "      <td>14.000000</td>\n",
       "      <td>59.000000</td>\n",
       "    </tr>\n",
       "  </tbody>\n",
       "</table>\n",
       "</div>"
      ],
      "text/plain": [
       "          close_spot   close_future         volume     buy_volume  \\\n",
       "count  139442.000000  139442.000000  139442.000000  139442.000000   \n",
       "mean     1280.321300    1277.953211     928.786291     497.722824   \n",
       "std       190.251386     190.726628     778.125674     491.345557   \n",
       "min       863.710000     861.600000       1.000000       0.000000   \n",
       "25%      1086.012500    1082.800000     400.000000     178.000000   \n",
       "50%      1274.190000    1268.350000     704.000000     348.000000   \n",
       "75%      1478.450000    1479.900000    1208.000000     643.000000   \n",
       "max      1586.630000    1576.700000   16149.000000   16009.000000   \n",
       "\n",
       "         sell_volume  days_to_maturity    day_of_week  future_spread  \\\n",
       "count  139442.000000     139442.000000  139442.000000   139442.00000   \n",
       "mean      430.614112         11.701783       2.011345       -2.36809   \n",
       "std       438.418695          7.502714       1.406704        6.40272   \n",
       "min         0.000000          1.000000       0.000000      -35.69000   \n",
       "25%       151.000000          6.000000       1.000000       -6.04000   \n",
       "50%       300.000000         11.000000       2.000000       -2.20000   \n",
       "75%       560.000000         17.000000       3.000000        1.21000   \n",
       "max     12183.000000         37.000000       4.000000       36.01000   \n",
       "\n",
       "          net_volume  cum_sum_volume  cum_buy_volume  cum_sell_volume  \\\n",
       "count  139442.000000   139442.000000   139442.000000    139442.000000   \n",
       "mean       67.108712    91130.957222    48728.909382     42349.012091   \n",
       "std       511.432865    78301.500694    42938.283704     35844.903844   \n",
       "min    -12183.000000       88.000000        0.000000         0.000000   \n",
       "25%      -136.000000    33095.250000    17324.000000     15572.000000   \n",
       "50%        37.000000    71068.000000    37504.500000     33300.000000   \n",
       "75%       246.000000   125878.750000    66878.750000     58685.000000   \n",
       "max     15869.000000   590379.000000   329729.000000    260650.000000   \n",
       "\n",
       "                hour         minute  \n",
       "count  139442.000000  139442.000000  \n",
       "mean       11.287611      27.079646  \n",
       "std         1.804996      16.639464  \n",
       "min         9.000000       0.000000  \n",
       "25%        10.000000      14.000000  \n",
       "50%        11.000000      25.000000  \n",
       "75%        13.000000      41.000000  \n",
       "max        14.000000      59.000000  "
      ]
     },
     "execution_count": 9,
     "metadata": {},
     "output_type": "execute_result"
    }
   ],
   "source": [
    "df.describe()"
   ]
  },
  {
   "cell_type": "code",
   "execution_count": 10,
   "id": "a77d418b-32b2-4f58-92e8-d470a1883181",
   "metadata": {},
   "outputs": [],
   "source": [
    "df = df.replace(0, np.nan)\n",
    "df = df.replace(0.0, np.nan)"
   ]
  },
  {
   "cell_type": "markdown",
   "id": "22d2074c-c016-42ff-89d1-d64c8007df5a",
   "metadata": {},
   "source": [
    "### Creating functions to get historical pct change of features and future pct change of price"
   ]
  },
  {
   "cell_type": "code",
   "execution_count": 11,
   "id": "bfef2578-3b24-4370-b5ed-adab0045d7f0",
   "metadata": {},
   "outputs": [],
   "source": [
    "def get_pct_change(df, fields: list, interval: int) -> pd.DataFrame():\n",
    "    for field in fields:\n",
    "        #df[field + \"_relative_diff\"] = df[field].pct_change(interval) * 100\n",
    "        \n",
    "        df[field + \"_relative_diff\"] = np.where((df[field].shift(interval) != 0.0) & (df[field] != 0.0), df[field].pct_change(interval) * 100, np.nan)\n",
    "    return df"
   ]
  },
  {
   "cell_type": "code",
   "execution_count": 12,
   "id": "1b805533-ae8a-40ca-847c-2dd4f713ed63",
   "metadata": {},
   "outputs": [],
   "source": [
    "def get_future_pct_change(df, field, interval:int) -> pd.DataFrame():\n",
    "    df[field + \"_relative_diff_forward\"] = (df[field].shift(-interval) - df[field]) / df[field] * 100\n",
    "    return df"
   ]
  },
  {
   "cell_type": "code",
   "execution_count": 13,
   "id": "26be0c6e-f579-4b4d-beaf-6160f536b242",
   "metadata": {},
   "outputs": [],
   "source": [
    "# Function to assign 0, 1, or 2 based on outcome values\n",
    "def assign_value(value, threshold):\n",
    "    if value < -threshold:\n",
    "        return 0\n",
    "    elif value > threshold:\n",
    "        return 1\n",
    "    else:\n",
    "        return 2"
   ]
  },
  {
   "cell_type": "markdown",
   "id": "c76411ce-0cac-425a-817d-d5ef2300b834",
   "metadata": {},
   "source": [
    "### Specifying XGB Classifier Model"
   ]
  },
  {
   "cell_type": "code",
   "execution_count": 14,
   "id": "2bc74aa7-6f56-44f7-83a6-31a5560e4758",
   "metadata": {},
   "outputs": [],
   "source": [
    "def xgb_classifier_accuracy(X, y, k):\n",
    "    xgb_classifier = xgb.XGBClassifier(\n",
    "    objective='multi:softmax',\n",
    "    learning_rate=0.01,\n",
    "    max_depth=3,\n",
    "    n_estimators=100,\n",
    "    n_jobs=-1)\n",
    "    \n",
    "    accuracy_scores = cross_val_score(xgb_classifier, X, y, cv=k)\n",
    "    return accuracy_scores.mean()"
   ]
  },
  {
   "cell_type": "markdown",
   "id": "fe3fb36e-fe1b-4736-8c95-495ce4d06269",
   "metadata": {},
   "source": [
    "## Testing XGBoost Models at Different 10 Time Intervals & 10 Threshold Levels\n",
    "### Recording the proportion of y that meet the thresholds and mean accuracy from K-Fold (K=5) Cross-Validation"
   ]
  },
  {
   "cell_type": "code",
   "execution_count": 15,
   "id": "d2068e4d-05e7-4444-a40e-d881f23a53d2",
   "metadata": {},
   "outputs": [],
   "source": [
    "# 10 intervals by 10 thresholds\n",
    "intervals = [1, 2, 5, 10, 15, 30, 60, 90, 120, 240]\n",
    "thresholds = [0.01, 0.02, 0.035, 0.05, 0.1, 0.2, 0.35, 0.5, 1, 1.5, 2]"
   ]
  },
  {
   "cell_type": "code",
   "execution_count": 16,
   "id": "d69c71a7-058c-4182-b0bf-c63a077e85e4",
   "metadata": {},
   "outputs": [],
   "source": [
    "# Definte empty lists to hold results to be added to dictionary\n",
    "results = {}\n",
    "proportion_ls = []\n",
    "accuracy_ls = []\n",
    "interval_ls = []\n",
    "threshold_ls = []\n",
    "periods_ls = []"
   ]
  },
  {
   "cell_type": "code",
   "execution_count": 17,
   "id": "1a3d813b-6488-4e24-a975-c704b8b2f1ee",
   "metadata": {},
   "outputs": [
    {
     "name": "stderr",
     "output_type": "stream",
     "text": [
      " 10%|████▍                                       | 1/10 [00:37<05:33, 37.04s/it]"
     ]
    },
    {
     "name": "stdout",
     "output_type": "stream",
     "text": [
      "Outside Threshold Proportion: 0.785, Accuracy: 0.442, Interval: 1, Threshold: 0.01\n"
     ]
    },
    {
     "name": "stderr",
     "output_type": "stream",
     "text": [
      " 20%|████████▊                                   | 2/10 [01:10<04:40, 35.07s/it]"
     ]
    },
    {
     "name": "stdout",
     "output_type": "stream",
     "text": [
      "Outside Threshold Proportion: 0.839, Accuracy: 0.426, Interval: 2, Threshold: 0.01\n"
     ]
    },
    {
     "name": "stderr",
     "output_type": "stream",
     "text": [
      " 30%|█████████████▏                              | 3/10 [01:42<03:53, 33.38s/it]"
     ]
    },
    {
     "name": "stdout",
     "output_type": "stream",
     "text": [
      "Outside Threshold Proportion: 0.898, Accuracy: 0.458, Interval: 5, Threshold: 0.01\n"
     ]
    },
    {
     "name": "stderr",
     "output_type": "stream",
     "text": [
      " 40%|█████████████████▌                          | 4/10 [02:12<03:13, 32.28s/it]"
     ]
    },
    {
     "name": "stdout",
     "output_type": "stream",
     "text": [
      "Outside Threshold Proportion: 0.93, Accuracy: 0.484, Interval: 10, Threshold: 0.01\n"
     ]
    },
    {
     "name": "stderr",
     "output_type": "stream",
     "text": [
      " 50%|██████████████████████                      | 5/10 [02:42<02:36, 31.39s/it]"
     ]
    },
    {
     "name": "stdout",
     "output_type": "stream",
     "text": [
      "Outside Threshold Proportion: 0.943, Accuracy: 0.458, Interval: 15, Threshold: 0.01\n"
     ]
    },
    {
     "name": "stderr",
     "output_type": "stream",
     "text": [
      " 60%|██████████████████████████▍                 | 6/10 [03:14<02:06, 31.70s/it]"
     ]
    },
    {
     "name": "stdout",
     "output_type": "stream",
     "text": [
      "Outside Threshold Proportion: 0.962, Accuracy: 0.455, Interval: 30, Threshold: 0.01\n"
     ]
    },
    {
     "name": "stderr",
     "output_type": "stream",
     "text": [
      " 70%|██████████████████████████████▊             | 7/10 [03:44<01:33, 31.10s/it]"
     ]
    },
    {
     "name": "stdout",
     "output_type": "stream",
     "text": [
      "Outside Threshold Proportion: 0.977, Accuracy: 0.458, Interval: 60, Threshold: 0.01\n"
     ]
    },
    {
     "name": "stderr",
     "output_type": "stream",
     "text": [
      " 80%|███████████████████████████████████▏        | 8/10 [04:14<01:01, 30.68s/it]"
     ]
    },
    {
     "name": "stdout",
     "output_type": "stream",
     "text": [
      "Outside Threshold Proportion: 0.982, Accuracy: 0.47, Interval: 90, Threshold: 0.01\n"
     ]
    },
    {
     "name": "stderr",
     "output_type": "stream",
     "text": [
      " 90%|███████████████████████████████████████▌    | 9/10 [04:43<00:30, 30.20s/it]"
     ]
    },
    {
     "name": "stdout",
     "output_type": "stream",
     "text": [
      "Outside Threshold Proportion: 0.985, Accuracy: 0.465, Interval: 120, Threshold: 0.01\n"
     ]
    },
    {
     "name": "stderr",
     "output_type": "stream",
     "text": [
      "100%|███████████████████████████████████████████| 10/10 [05:14<00:00, 31.45s/it]\n"
     ]
    },
    {
     "name": "stdout",
     "output_type": "stream",
     "text": [
      "Outside Threshold Proportion: 0.991, Accuracy: 0.499, Interval: 240, Threshold: 0.01\n"
     ]
    },
    {
     "name": "stderr",
     "output_type": "stream",
     "text": [
      " 10%|████▍                                       | 1/10 [00:31<04:44, 31.59s/it]"
     ]
    },
    {
     "name": "stdout",
     "output_type": "stream",
     "text": [
      "Outside Threshold Proportion: 0.516, Accuracy: 0.5, Interval: 1, Threshold: 0.03\n"
     ]
    },
    {
     "name": "stderr",
     "output_type": "stream",
     "text": [
      " 20%|████████▊                                   | 2/10 [01:03<04:12, 31.62s/it]"
     ]
    },
    {
     "name": "stdout",
     "output_type": "stream",
     "text": [
      "Outside Threshold Proportion: 0.616, Accuracy: 0.41, Interval: 2, Threshold: 0.03\n"
     ]
    },
    {
     "name": "stderr",
     "output_type": "stream",
     "text": [
      " 30%|█████████████▏                              | 3/10 [01:34<03:39, 31.31s/it]"
     ]
    },
    {
     "name": "stdout",
     "output_type": "stream",
     "text": [
      "Outside Threshold Proportion: 0.747, Accuracy: 0.388, Interval: 5, Threshold: 0.03\n"
     ]
    },
    {
     "name": "stderr",
     "output_type": "stream",
     "text": [
      " 40%|█████████████████▌                          | 4/10 [02:07<03:12, 32.03s/it]"
     ]
    },
    {
     "name": "stdout",
     "output_type": "stream",
     "text": [
      "Outside Threshold Proportion: 0.823, Accuracy: 0.425, Interval: 10, Threshold: 0.03\n"
     ]
    },
    {
     "name": "stderr",
     "output_type": "stream",
     "text": [
      " 50%|██████████████████████                      | 5/10 [02:37<02:36, 31.31s/it]"
     ]
    },
    {
     "name": "stdout",
     "output_type": "stream",
     "text": [
      "Outside Threshold Proportion: 0.855, Accuracy: 0.408, Interval: 15, Threshold: 0.03\n"
     ]
    },
    {
     "name": "stderr",
     "output_type": "stream",
     "text": [
      " 60%|██████████████████████████▍                 | 6/10 [03:07<02:03, 30.94s/it]"
     ]
    },
    {
     "name": "stdout",
     "output_type": "stream",
     "text": [
      "Outside Threshold Proportion: 0.904, Accuracy: 0.417, Interval: 30, Threshold: 0.03\n"
     ]
    },
    {
     "name": "stderr",
     "output_type": "stream",
     "text": [
      " 70%|██████████████████████████████▊             | 7/10 [03:36<01:31, 30.45s/it]"
     ]
    },
    {
     "name": "stdout",
     "output_type": "stream",
     "text": [
      "Outside Threshold Proportion: 0.94, Accuracy: 0.442, Interval: 60, Threshold: 0.03\n"
     ]
    },
    {
     "name": "stderr",
     "output_type": "stream",
     "text": [
      " 80%|███████████████████████████████████▏        | 8/10 [04:09<01:01, 30.99s/it]"
     ]
    },
    {
     "name": "stdout",
     "output_type": "stream",
     "text": [
      "Outside Threshold Proportion: 0.954, Accuracy: 0.461, Interval: 90, Threshold: 0.03\n"
     ]
    },
    {
     "name": "stderr",
     "output_type": "stream",
     "text": [
      " 90%|███████████████████████████████████████▌    | 9/10 [04:38<00:30, 30.59s/it]"
     ]
    },
    {
     "name": "stdout",
     "output_type": "stream",
     "text": [
      "Outside Threshold Proportion: 0.96, Accuracy: 0.469, Interval: 120, Threshold: 0.03\n"
     ]
    },
    {
     "name": "stderr",
     "output_type": "stream",
     "text": [
      "100%|███████████████████████████████████████████| 10/10 [05:07<00:00, 30.79s/it]\n"
     ]
    },
    {
     "name": "stdout",
     "output_type": "stream",
     "text": [
      "Outside Threshold Proportion: 0.978, Accuracy: 0.492, Interval: 240, Threshold: 0.03\n"
     ]
    },
    {
     "name": "stderr",
     "output_type": "stream",
     "text": [
      " 10%|████▍                                       | 1/10 [00:29<04:28, 29.84s/it]"
     ]
    },
    {
     "name": "stdout",
     "output_type": "stream",
     "text": [
      "Outside Threshold Proportion: 0.335, Accuracy: 0.663, Interval: 1, Threshold: 0.05\n"
     ]
    },
    {
     "name": "stderr",
     "output_type": "stream",
     "text": [
      " 20%|████████▊                                   | 2/10 [01:02<04:13, 31.71s/it]"
     ]
    },
    {
     "name": "stdout",
     "output_type": "stream",
     "text": [
      "Outside Threshold Proportion: 0.441, Accuracy: 0.553, Interval: 2, Threshold: 0.05\n"
     ]
    },
    {
     "name": "stderr",
     "output_type": "stream",
     "text": [
      " 30%|█████████████▏                              | 3/10 [01:34<03:42, 31.82s/it]"
     ]
    },
    {
     "name": "stdout",
     "output_type": "stream",
     "text": [
      "Outside Threshold Proportion: 0.605, Accuracy: 0.431, Interval: 5, Threshold: 0.05\n"
     ]
    },
    {
     "name": "stderr",
     "output_type": "stream",
     "text": [
      " 40%|█████████████████▌                          | 4/10 [02:07<03:13, 32.31s/it]"
     ]
    },
    {
     "name": "stdout",
     "output_type": "stream",
     "text": [
      "Outside Threshold Proportion: 0.715, Accuracy: 0.401, Interval: 10, Threshold: 0.05\n"
     ]
    },
    {
     "name": "stderr",
     "output_type": "stream",
     "text": [
      " 50%|██████████████████████                      | 5/10 [02:38<02:39, 31.82s/it]"
     ]
    },
    {
     "name": "stdout",
     "output_type": "stream",
     "text": [
      "Outside Threshold Proportion: 0.764, Accuracy: 0.362, Interval: 15, Threshold: 0.05\n"
     ]
    },
    {
     "name": "stderr",
     "output_type": "stream",
     "text": [
      " 60%|██████████████████████████▍                 | 6/10 [03:11<02:07, 31.98s/it]"
     ]
    },
    {
     "name": "stdout",
     "output_type": "stream",
     "text": [
      "Outside Threshold Proportion: 0.842, Accuracy: 0.389, Interval: 30, Threshold: 0.05\n"
     ]
    },
    {
     "name": "stderr",
     "output_type": "stream",
     "text": [
      " 70%|██████████████████████████████▊             | 7/10 [03:41<01:34, 31.44s/it]"
     ]
    },
    {
     "name": "stdout",
     "output_type": "stream",
     "text": [
      "Outside Threshold Proportion: 0.9, Accuracy: 0.419, Interval: 60, Threshold: 0.05\n"
     ]
    },
    {
     "name": "stderr",
     "output_type": "stream",
     "text": [
      " 80%|███████████████████████████████████▏        | 8/10 [04:11<01:01, 30.90s/it]"
     ]
    },
    {
     "name": "stdout",
     "output_type": "stream",
     "text": [
      "Outside Threshold Proportion: 0.923, Accuracy: 0.443, Interval: 90, Threshold: 0.05\n"
     ]
    },
    {
     "name": "stderr",
     "output_type": "stream",
     "text": [
      " 90%|███████████████████████████████████████▌    | 9/10 [04:41<00:30, 30.80s/it]"
     ]
    },
    {
     "name": "stdout",
     "output_type": "stream",
     "text": [
      "Outside Threshold Proportion: 0.934, Accuracy: 0.464, Interval: 120, Threshold: 0.05\n"
     ]
    },
    {
     "name": "stderr",
     "output_type": "stream",
     "text": [
      "100%|███████████████████████████████████████████| 10/10 [05:13<00:00, 31.32s/it]\n"
     ]
    },
    {
     "name": "stdout",
     "output_type": "stream",
     "text": [
      "Outside Threshold Proportion: 0.964, Accuracy: 0.493, Interval: 240, Threshold: 0.05\n"
     ]
    },
    {
     "name": "stderr",
     "output_type": "stream",
     "text": [
      " 10%|████▍                                       | 1/10 [00:31<04:45, 31.77s/it]"
     ]
    },
    {
     "name": "stdout",
     "output_type": "stream",
     "text": [
      "Outside Threshold Proportion: 0.228, Accuracy: 0.769, Interval: 1, Threshold: 0.07\n"
     ]
    },
    {
     "name": "stderr",
     "output_type": "stream",
     "text": [
      " 20%|████████▊                                   | 2/10 [01:02<04:10, 31.37s/it]"
     ]
    },
    {
     "name": "stdout",
     "output_type": "stream",
     "text": [
      "Outside Threshold Proportion: 0.327, Accuracy: 0.665, Interval: 2, Threshold: 0.07\n"
     ]
    },
    {
     "name": "stderr",
     "output_type": "stream",
     "text": [
      " 30%|█████████████▏                              | 3/10 [01:35<03:44, 32.11s/it]"
     ]
    },
    {
     "name": "stdout",
     "output_type": "stream",
     "text": [
      "Outside Threshold Proportion: 0.496, Accuracy: 0.511, Interval: 5, Threshold: 0.07\n"
     ]
    },
    {
     "name": "stderr",
     "output_type": "stream",
     "text": [
      " 40%|█████████████████▌                          | 4/10 [02:07<03:11, 31.91s/it]"
     ]
    },
    {
     "name": "stdout",
     "output_type": "stream",
     "text": [
      "Outside Threshold Proportion: 0.625, Accuracy: 0.43, Interval: 10, Threshold: 0.07\n"
     ]
    },
    {
     "name": "stderr",
     "output_type": "stream",
     "text": [
      " 50%|██████████████████████                      | 5/10 [02:38<02:37, 31.55s/it]"
     ]
    },
    {
     "name": "stdout",
     "output_type": "stream",
     "text": [
      "Outside Threshold Proportion: 0.688, Accuracy: 0.381, Interval: 15, Threshold: 0.07\n"
     ]
    },
    {
     "name": "stderr",
     "output_type": "stream",
     "text": [
      " 60%|██████████████████████████▍                 | 6/10 [03:08<02:04, 31.24s/it]"
     ]
    },
    {
     "name": "stdout",
     "output_type": "stream",
     "text": [
      "Outside Threshold Proportion: 0.785, Accuracy: 0.355, Interval: 30, Threshold: 0.07\n"
     ]
    },
    {
     "name": "stderr",
     "output_type": "stream",
     "text": [
      " 70%|██████████████████████████████▊             | 7/10 [03:40<01:33, 31.26s/it]"
     ]
    },
    {
     "name": "stdout",
     "output_type": "stream",
     "text": [
      "Outside Threshold Proportion: 0.862, Accuracy: 0.394, Interval: 60, Threshold: 0.07\n"
     ]
    },
    {
     "name": "stderr",
     "output_type": "stream",
     "text": [
      " 80%|███████████████████████████████████▏        | 8/10 [04:09<01:01, 30.72s/it]"
     ]
    },
    {
     "name": "stdout",
     "output_type": "stream",
     "text": [
      "Outside Threshold Proportion: 0.893, Accuracy: 0.427, Interval: 90, Threshold: 0.07\n"
     ]
    },
    {
     "name": "stderr",
     "output_type": "stream",
     "text": [
      " 90%|███████████████████████████████████████▌    | 9/10 [04:39<00:30, 30.32s/it]"
     ]
    },
    {
     "name": "stdout",
     "output_type": "stream",
     "text": [
      "Outside Threshold Proportion: 0.908, Accuracy: 0.452, Interval: 120, Threshold: 0.07\n"
     ]
    },
    {
     "name": "stderr",
     "output_type": "stream",
     "text": [
      "100%|███████████████████████████████████████████| 10/10 [05:08<00:00, 30.88s/it]\n"
     ]
    },
    {
     "name": "stdout",
     "output_type": "stream",
     "text": [
      "Outside Threshold Proportion: 0.95, Accuracy: 0.479, Interval: 240, Threshold: 0.07\n"
     ]
    },
    {
     "name": "stderr",
     "output_type": "stream",
     "text": [
      " 10%|████▍                                       | 1/10 [00:32<04:48, 32.03s/it]"
     ]
    },
    {
     "name": "stdout",
     "output_type": "stream",
     "text": [
      "Outside Threshold Proportion: 0.16, Accuracy: 0.834, Interval: 1, Threshold: 0.09\n"
     ]
    },
    {
     "name": "stderr",
     "output_type": "stream",
     "text": [
      " 20%|████████▊                                   | 2/10 [01:01<04:05, 30.72s/it]"
     ]
    },
    {
     "name": "stdout",
     "output_type": "stream",
     "text": [
      "Outside Threshold Proportion: 0.248, Accuracy: 0.74, Interval: 2, Threshold: 0.09\n"
     ]
    },
    {
     "name": "stderr",
     "output_type": "stream",
     "text": [
      " 30%|█████████████▏                              | 3/10 [01:31<03:32, 30.36s/it]"
     ]
    },
    {
     "name": "stdout",
     "output_type": "stream",
     "text": [
      "Outside Threshold Proportion: 0.41, Accuracy: 0.581, Interval: 5, Threshold: 0.09\n"
     ]
    },
    {
     "name": "stderr",
     "output_type": "stream",
     "text": [
      " 40%|█████████████████▌                          | 4/10 [02:02<03:03, 30.51s/it]"
     ]
    },
    {
     "name": "stdout",
     "output_type": "stream",
     "text": [
      "Outside Threshold Proportion: 0.547, Accuracy: 0.476, Interval: 10, Threshold: 0.09\n"
     ]
    },
    {
     "name": "stderr",
     "output_type": "stream",
     "text": [
      " 50%|██████████████████████                      | 5/10 [02:35<02:36, 31.40s/it]"
     ]
    },
    {
     "name": "stdout",
     "output_type": "stream",
     "text": [
      "Outside Threshold Proportion: 0.617, Accuracy: 0.418, Interval: 15, Threshold: 0.09\n"
     ]
    },
    {
     "name": "stderr",
     "output_type": "stream",
     "text": [
      " 60%|██████████████████████████▍                 | 6/10 [03:06<02:05, 31.29s/it]"
     ]
    },
    {
     "name": "stdout",
     "output_type": "stream",
     "text": [
      "Outside Threshold Proportion: 0.73, Accuracy: 0.353, Interval: 30, Threshold: 0.09\n"
     ]
    },
    {
     "name": "stderr",
     "output_type": "stream",
     "text": [
      " 70%|██████████████████████████████▊             | 7/10 [03:36<01:32, 30.78s/it]"
     ]
    },
    {
     "name": "stdout",
     "output_type": "stream",
     "text": [
      "Outside Threshold Proportion: 0.824, Accuracy: 0.38, Interval: 60, Threshold: 0.09\n"
     ]
    },
    {
     "name": "stderr",
     "output_type": "stream",
     "text": [
      " 80%|███████████████████████████████████▏        | 8/10 [04:05<01:00, 30.37s/it]"
     ]
    },
    {
     "name": "stdout",
     "output_type": "stream",
     "text": [
      "Outside Threshold Proportion: 0.862, Accuracy: 0.402, Interval: 90, Threshold: 0.09\n"
     ]
    },
    {
     "name": "stderr",
     "output_type": "stream",
     "text": [
      " 90%|███████████████████████████████████████▌    | 9/10 [04:37<00:30, 30.86s/it]"
     ]
    },
    {
     "name": "stdout",
     "output_type": "stream",
     "text": [
      "Outside Threshold Proportion: 0.884, Accuracy: 0.438, Interval: 120, Threshold: 0.09\n"
     ]
    },
    {
     "name": "stderr",
     "output_type": "stream",
     "text": [
      "100%|███████████████████████████████████████████| 10/10 [05:07<00:00, 30.74s/it]\n"
     ]
    },
    {
     "name": "stdout",
     "output_type": "stream",
     "text": [
      "Outside Threshold Proportion: 0.937, Accuracy: 0.468, Interval: 240, Threshold: 0.09\n"
     ]
    },
    {
     "name": "stderr",
     "output_type": "stream",
     "text": [
      " 10%|████▍                                       | 1/10 [00:29<04:24, 29.34s/it]"
     ]
    },
    {
     "name": "stdout",
     "output_type": "stream",
     "text": [
      "Outside Threshold Proportion: 0.116, Accuracy: 0.878, Interval: 1, Threshold: 0.11\n"
     ]
    },
    {
     "name": "stderr",
     "output_type": "stream",
     "text": [
      " 20%|████████▊                                   | 2/10 [00:59<03:58, 29.78s/it]"
     ]
    },
    {
     "name": "stdout",
     "output_type": "stream",
     "text": [
      "Outside Threshold Proportion: 0.192, Accuracy: 0.802, Interval: 2, Threshold: 0.11\n"
     ]
    },
    {
     "name": "stderr",
     "output_type": "stream",
     "text": [
      " 30%|█████████████▏                              | 3/10 [01:31<03:35, 30.78s/it]"
     ]
    },
    {
     "name": "stdout",
     "output_type": "stream",
     "text": [
      "Outside Threshold Proportion: 0.345, Accuracy: 0.645, Interval: 5, Threshold: 0.11\n"
     ]
    },
    {
     "name": "stderr",
     "output_type": "stream",
     "text": [
      " 40%|█████████████████▌                          | 4/10 [02:02<03:04, 30.82s/it]"
     ]
    },
    {
     "name": "stdout",
     "output_type": "stream",
     "text": [
      "Outside Threshold Proportion: 0.48, Accuracy: 0.526, Interval: 10, Threshold: 0.11\n"
     ]
    },
    {
     "name": "stderr",
     "output_type": "stream",
     "text": [
      " 50%|██████████████████████                      | 5/10 [02:33<02:35, 31.09s/it]"
     ]
    },
    {
     "name": "stdout",
     "output_type": "stream",
     "text": [
      "Outside Threshold Proportion: 0.554, Accuracy: 0.466, Interval: 15, Threshold: 0.11\n"
     ]
    },
    {
     "name": "stderr",
     "output_type": "stream",
     "text": [
      " 60%|██████████████████████████▍                 | 6/10 [03:05<02:05, 31.35s/it]"
     ]
    },
    {
     "name": "stdout",
     "output_type": "stream",
     "text": [
      "Outside Threshold Proportion: 0.68, Accuracy: 0.377, Interval: 30, Threshold: 0.11\n"
     ]
    },
    {
     "name": "stderr",
     "output_type": "stream",
     "text": [
      " 70%|██████████████████████████████▊             | 7/10 [03:39<01:36, 32.04s/it]"
     ]
    },
    {
     "name": "stdout",
     "output_type": "stream",
     "text": [
      "Outside Threshold Proportion: 0.787, Accuracy: 0.361, Interval: 60, Threshold: 0.11\n"
     ]
    },
    {
     "name": "stderr",
     "output_type": "stream",
     "text": [
      " 80%|███████████████████████████████████▏        | 8/10 [04:11<01:04, 32.12s/it]"
     ]
    },
    {
     "name": "stdout",
     "output_type": "stream",
     "text": [
      "Outside Threshold Proportion: 0.832, Accuracy: 0.38, Interval: 90, Threshold: 0.11\n"
     ]
    },
    {
     "name": "stderr",
     "output_type": "stream",
     "text": [
      " 90%|███████████████████████████████████████▌    | 9/10 [04:41<00:31, 31.37s/it]"
     ]
    },
    {
     "name": "stdout",
     "output_type": "stream",
     "text": [
      "Outside Threshold Proportion: 0.86, Accuracy: 0.414, Interval: 120, Threshold: 0.11\n"
     ]
    },
    {
     "name": "stderr",
     "output_type": "stream",
     "text": [
      "100%|███████████████████████████████████████████| 10/10 [05:10<00:00, 31.06s/it]\n"
     ]
    },
    {
     "name": "stdout",
     "output_type": "stream",
     "text": [
      "Outside Threshold Proportion: 0.924, Accuracy: 0.469, Interval: 240, Threshold: 0.11\n"
     ]
    },
    {
     "name": "stderr",
     "output_type": "stream",
     "text": [
      " 10%|████▍                                       | 1/10 [00:31<04:45, 31.68s/it]"
     ]
    },
    {
     "name": "stdout",
     "output_type": "stream",
     "text": [
      "Outside Threshold Proportion: 0.087, Accuracy: 0.905, Interval: 1, Threshold: 0.13\n"
     ]
    },
    {
     "name": "stderr",
     "output_type": "stream",
     "text": [
      " 20%|████████▊                                   | 2/10 [01:01<04:03, 30.42s/it]"
     ]
    },
    {
     "name": "stdout",
     "output_type": "stream",
     "text": [
      "Outside Threshold Proportion: 0.152, Accuracy: 0.841, Interval: 2, Threshold: 0.13\n"
     ]
    },
    {
     "name": "stderr",
     "output_type": "stream",
     "text": [
      " 30%|█████████████▏                              | 3/10 [01:30<03:29, 29.99s/it]"
     ]
    },
    {
     "name": "stdout",
     "output_type": "stream",
     "text": [
      "Outside Threshold Proportion: 0.291, Accuracy: 0.701, Interval: 5, Threshold: 0.13\n"
     ]
    },
    {
     "name": "stderr",
     "output_type": "stream",
     "text": [
      " 40%|█████████████████▌                          | 4/10 [02:01<03:00, 30.15s/it]"
     ]
    },
    {
     "name": "stdout",
     "output_type": "stream",
     "text": [
      "Outside Threshold Proportion: 0.424, Accuracy: 0.57, Interval: 10, Threshold: 0.13\n"
     ]
    },
    {
     "name": "stderr",
     "output_type": "stream",
     "text": [
      " 50%|██████████████████████                      | 5/10 [02:33<02:35, 31.11s/it]"
     ]
    },
    {
     "name": "stdout",
     "output_type": "stream",
     "text": [
      "Outside Threshold Proportion: 0.5, Accuracy: 0.509, Interval: 15, Threshold: 0.13\n"
     ]
    },
    {
     "name": "stderr",
     "output_type": "stream",
     "text": [
      " 60%|██████████████████████████▍                 | 6/10 [03:05<02:05, 31.39s/it]"
     ]
    },
    {
     "name": "stdout",
     "output_type": "stream",
     "text": [
      "Outside Threshold Proportion: 0.633, Accuracy: 0.412, Interval: 30, Threshold: 0.13\n"
     ]
    },
    {
     "name": "stderr",
     "output_type": "stream",
     "text": [
      " 70%|██████████████████████████████▊             | 7/10 [03:37<01:34, 31.53s/it]"
     ]
    },
    {
     "name": "stdout",
     "output_type": "stream",
     "text": [
      "Outside Threshold Proportion: 0.752, Accuracy: 0.36, Interval: 60, Threshold: 0.13\n"
     ]
    },
    {
     "name": "stderr",
     "output_type": "stream",
     "text": [
      " 80%|███████████████████████████████████▏        | 8/10 [04:10<01:03, 31.79s/it]"
     ]
    },
    {
     "name": "stdout",
     "output_type": "stream",
     "text": [
      "Outside Threshold Proportion: 0.803, Accuracy: 0.373, Interval: 90, Threshold: 0.13\n"
     ]
    },
    {
     "name": "stderr",
     "output_type": "stream",
     "text": [
      " 90%|███████████████████████████████████████▌    | 9/10 [04:41<00:31, 31.80s/it]"
     ]
    },
    {
     "name": "stdout",
     "output_type": "stream",
     "text": [
      "Outside Threshold Proportion: 0.837, Accuracy: 0.4, Interval: 120, Threshold: 0.13\n"
     ]
    },
    {
     "name": "stderr",
     "output_type": "stream",
     "text": [
      "100%|███████████████████████████████████████████| 10/10 [05:12<00:00, 31.23s/it]\n"
     ]
    },
    {
     "name": "stdout",
     "output_type": "stream",
     "text": [
      "Outside Threshold Proportion: 0.91, Accuracy: 0.461, Interval: 240, Threshold: 0.13\n"
     ]
    },
    {
     "name": "stderr",
     "output_type": "stream",
     "text": [
      " 10%|████▍                                       | 1/10 [00:32<04:50, 32.30s/it]"
     ]
    },
    {
     "name": "stdout",
     "output_type": "stream",
     "text": [
      "Outside Threshold Proportion: 0.066, Accuracy: 0.926, Interval: 1, Threshold: 0.15\n"
     ]
    },
    {
     "name": "stderr",
     "output_type": "stream",
     "text": [
      " 20%|████████▊                                   | 2/10 [01:04<04:19, 32.48s/it]"
     ]
    },
    {
     "name": "stdout",
     "output_type": "stream",
     "text": [
      "Outside Threshold Proportion: 0.121, Accuracy: 0.87, Interval: 2, Threshold: 0.15\n"
     ]
    },
    {
     "name": "stderr",
     "output_type": "stream",
     "text": [
      " 30%|█████████████▏                              | 3/10 [01:35<03:40, 31.54s/it]"
     ]
    },
    {
     "name": "stdout",
     "output_type": "stream",
     "text": [
      "Outside Threshold Proportion: 0.249, Accuracy: 0.744, Interval: 5, Threshold: 0.15\n"
     ]
    },
    {
     "name": "stderr",
     "output_type": "stream",
     "text": [
      " 40%|█████████████████▌                          | 4/10 [02:05<03:06, 31.16s/it]"
     ]
    },
    {
     "name": "stdout",
     "output_type": "stream",
     "text": [
      "Outside Threshold Proportion: 0.376, Accuracy: 0.612, Interval: 10, Threshold: 0.15\n"
     ]
    },
    {
     "name": "stderr",
     "output_type": "stream",
     "text": [
      " 50%|██████████████████████                      | 5/10 [02:37<02:36, 31.27s/it]"
     ]
    },
    {
     "name": "stdout",
     "output_type": "stream",
     "text": [
      "Outside Threshold Proportion: 0.452, Accuracy: 0.547, Interval: 15, Threshold: 0.15\n"
     ]
    },
    {
     "name": "stderr",
     "output_type": "stream",
     "text": [
      " 60%|██████████████████████████▍                 | 6/10 [03:10<02:07, 31.99s/it]"
     ]
    },
    {
     "name": "stdout",
     "output_type": "stream",
     "text": [
      "Outside Threshold Proportion: 0.588, Accuracy: 0.449, Interval: 30, Threshold: 0.15\n"
     ]
    },
    {
     "name": "stderr",
     "output_type": "stream",
     "text": [
      " 70%|██████████████████████████████▊             | 7/10 [03:42<01:35, 31.78s/it]"
     ]
    },
    {
     "name": "stdout",
     "output_type": "stream",
     "text": [
      "Outside Threshold Proportion: 0.717, Accuracy: 0.368, Interval: 60, Threshold: 0.15\n"
     ]
    },
    {
     "name": "stderr",
     "output_type": "stream",
     "text": [
      " 80%|███████████████████████████████████▏        | 8/10 [04:13<01:03, 31.50s/it]"
     ]
    },
    {
     "name": "stdout",
     "output_type": "stream",
     "text": [
      "Outside Threshold Proportion: 0.776, Accuracy: 0.363, Interval: 90, Threshold: 0.15\n"
     ]
    },
    {
     "name": "stderr",
     "output_type": "stream",
     "text": [
      " 90%|███████████████████████████████████████▌    | 9/10 [04:44<00:31, 31.43s/it]"
     ]
    },
    {
     "name": "stdout",
     "output_type": "stream",
     "text": [
      "Outside Threshold Proportion: 0.814, Accuracy: 0.38, Interval: 120, Threshold: 0.15\n"
     ]
    },
    {
     "name": "stderr",
     "output_type": "stream",
     "text": [
      "100%|███████████████████████████████████████████| 10/10 [05:16<00:00, 31.66s/it]\n"
     ]
    },
    {
     "name": "stdout",
     "output_type": "stream",
     "text": [
      "Outside Threshold Proportion: 0.896, Accuracy: 0.454, Interval: 240, Threshold: 0.15\n"
     ]
    },
    {
     "name": "stderr",
     "output_type": "stream",
     "text": [
      " 10%|████▍                                       | 1/10 [00:29<04:26, 29.62s/it]"
     ]
    },
    {
     "name": "stdout",
     "output_type": "stream",
     "text": [
      "Outside Threshold Proportion: 0.051, Accuracy: 0.941, Interval: 1, Threshold: 0.17\n"
     ]
    },
    {
     "name": "stderr",
     "output_type": "stream",
     "text": [
      " 20%|████████▊                                   | 2/10 [00:59<03:57, 29.72s/it]"
     ]
    },
    {
     "name": "stdout",
     "output_type": "stream",
     "text": [
      "Outside Threshold Proportion: 0.099, Accuracy: 0.892, Interval: 2, Threshold: 0.17\n"
     ]
    },
    {
     "name": "stderr",
     "output_type": "stream",
     "text": [
      " 30%|█████████████▏                              | 3/10 [01:29<03:29, 29.87s/it]"
     ]
    },
    {
     "name": "stdout",
     "output_type": "stream",
     "text": [
      "Outside Threshold Proportion: 0.213, Accuracy: 0.78, Interval: 5, Threshold: 0.17\n"
     ]
    },
    {
     "name": "stderr",
     "output_type": "stream",
     "text": [
      " 40%|█████████████████▌                          | 4/10 [02:02<03:07, 31.23s/it]"
     ]
    },
    {
     "name": "stdout",
     "output_type": "stream",
     "text": [
      "Outside Threshold Proportion: 0.335, Accuracy: 0.652, Interval: 10, Threshold: 0.17\n"
     ]
    },
    {
     "name": "stderr",
     "output_type": "stream",
     "text": [
      " 50%|██████████████████████                      | 5/10 [02:33<02:35, 31.14s/it]"
     ]
    },
    {
     "name": "stdout",
     "output_type": "stream",
     "text": [
      "Outside Threshold Proportion: 0.409, Accuracy: 0.581, Interval: 15, Threshold: 0.17\n"
     ]
    },
    {
     "name": "stderr",
     "output_type": "stream",
     "text": [
      " 60%|██████████████████████████▍                 | 6/10 [03:05<02:04, 31.22s/it]"
     ]
    },
    {
     "name": "stdout",
     "output_type": "stream",
     "text": [
      "Outside Threshold Proportion: 0.547, Accuracy: 0.475, Interval: 30, Threshold: 0.17\n"
     ]
    },
    {
     "name": "stderr",
     "output_type": "stream",
     "text": [
      " 70%|██████████████████████████████▊             | 7/10 [03:37<01:34, 31.65s/it]"
     ]
    },
    {
     "name": "stdout",
     "output_type": "stream",
     "text": [
      "Outside Threshold Proportion: 0.684, Accuracy: 0.382, Interval: 60, Threshold: 0.17\n"
     ]
    },
    {
     "name": "stderr",
     "output_type": "stream",
     "text": [
      " 80%|███████████████████████████████████▏        | 8/10 [04:10<01:04, 32.01s/it]"
     ]
    },
    {
     "name": "stdout",
     "output_type": "stream",
     "text": [
      "Outside Threshold Proportion: 0.749, Accuracy: 0.364, Interval: 90, Threshold: 0.17\n"
     ]
    },
    {
     "name": "stderr",
     "output_type": "stream",
     "text": [
      " 90%|███████████████████████████████████████▌    | 9/10 [04:41<00:31, 31.63s/it]"
     ]
    },
    {
     "name": "stdout",
     "output_type": "stream",
     "text": [
      "Outside Threshold Proportion: 0.791, Accuracy: 0.372, Interval: 120, Threshold: 0.17\n"
     ]
    },
    {
     "name": "stderr",
     "output_type": "stream",
     "text": [
      "100%|███████████████████████████████████████████| 10/10 [05:11<00:00, 31.12s/it]\n"
     ]
    },
    {
     "name": "stdout",
     "output_type": "stream",
     "text": [
      "Outside Threshold Proportion: 0.883, Accuracy: 0.444, Interval: 240, Threshold: 0.17\n"
     ]
    },
    {
     "name": "stderr",
     "output_type": "stream",
     "text": [
      " 10%|████▍                                       | 1/10 [00:31<04:45, 31.77s/it]"
     ]
    },
    {
     "name": "stdout",
     "output_type": "stream",
     "text": [
      "Outside Threshold Proportion: 0.04, Accuracy: 0.953, Interval: 1, Threshold: 0.19\n"
     ]
    },
    {
     "name": "stderr",
     "output_type": "stream",
     "text": [
      " 20%|████████▊                                   | 2/10 [01:01<04:05, 30.71s/it]"
     ]
    },
    {
     "name": "stdout",
     "output_type": "stream",
     "text": [
      "Outside Threshold Proportion: 0.08, Accuracy: 0.912, Interval: 2, Threshold: 0.19\n"
     ]
    },
    {
     "name": "stderr",
     "output_type": "stream",
     "text": [
      " 30%|█████████████▏                              | 3/10 [01:31<03:32, 30.30s/it]"
     ]
    },
    {
     "name": "stdout",
     "output_type": "stream",
     "text": [
      "Outside Threshold Proportion: 0.184, Accuracy: 0.808, Interval: 5, Threshold: 0.19\n"
     ]
    },
    {
     "name": "stderr",
     "output_type": "stream",
     "text": [
      " 40%|█████████████████▌                          | 4/10 [02:01<03:01, 30.18s/it]"
     ]
    },
    {
     "name": "stdout",
     "output_type": "stream",
     "text": [
      "Outside Threshold Proportion: 0.299, Accuracy: 0.691, Interval: 10, Threshold: 0.19\n"
     ]
    },
    {
     "name": "stderr",
     "output_type": "stream",
     "text": [
      " 50%|██████████████████████                      | 5/10 [02:34<02:36, 31.27s/it]"
     ]
    },
    {
     "name": "stdout",
     "output_type": "stream",
     "text": [
      "Outside Threshold Proportion: 0.372, Accuracy: 0.62, Interval: 15, Threshold: 0.19\n"
     ]
    },
    {
     "name": "stderr",
     "output_type": "stream",
     "text": [
      " 60%|██████████████████████████▍                 | 6/10 [03:06<02:05, 31.36s/it]"
     ]
    },
    {
     "name": "stdout",
     "output_type": "stream",
     "text": [
      "Outside Threshold Proportion: 0.51, Accuracy: 0.505, Interval: 30, Threshold: 0.19\n"
     ]
    },
    {
     "name": "stderr",
     "output_type": "stream",
     "text": [
      " 70%|██████████████████████████████▊             | 7/10 [03:37<01:34, 31.47s/it]"
     ]
    },
    {
     "name": "stdout",
     "output_type": "stream",
     "text": [
      "Outside Threshold Proportion: 0.653, Accuracy: 0.388, Interval: 60, Threshold: 0.19\n"
     ]
    },
    {
     "name": "stderr",
     "output_type": "stream",
     "text": [
      " 80%|███████████████████████████████████▏        | 8/10 [04:09<01:02, 31.35s/it]"
     ]
    },
    {
     "name": "stdout",
     "output_type": "stream",
     "text": [
      "Outside Threshold Proportion: 0.722, Accuracy: 0.372, Interval: 90, Threshold: 0.19\n"
     ]
    },
    {
     "name": "stderr",
     "output_type": "stream",
     "text": [
      " 90%|███████████████████████████████████████▌    | 9/10 [04:42<00:32, 32.00s/it]"
     ]
    },
    {
     "name": "stdout",
     "output_type": "stream",
     "text": [
      "Outside Threshold Proportion: 0.769, Accuracy: 0.362, Interval: 120, Threshold: 0.19\n"
     ]
    },
    {
     "name": "stderr",
     "output_type": "stream",
     "text": [
      "100%|███████████████████████████████████████████| 10/10 [05:12<00:00, 31.25s/it]"
     ]
    },
    {
     "name": "stdout",
     "output_type": "stream",
     "text": [
      "Outside Threshold Proportion: 0.869, Accuracy: 0.43, Interval: 240, Threshold: 0.19\n"
     ]
    },
    {
     "name": "stderr",
     "output_type": "stream",
     "text": [
      "\n"
     ]
    }
   ],
   "source": [
    "import xgboost as xgb\n",
    "from sklearn.model_selection import cross_val_score\n",
    "from tqdm import tqdm\n",
    "\n",
    "# Get average accuracy score based on 5-Fold Cross Validation for XGBoost Classifier models.\n",
    "for threshold in thresholds:\n",
    "    \n",
    "    for interval in tqdm(intervals):\n",
    "        data = df\n",
    "        data = get_pct_change(data, [\"close_spot\", \"close_future\", \"future_spread\", \"cum_sum_volume\", \"cum_buy_volume\", \"cum_sell_volume\"], interval=interval)\n",
    "        data = get_future_pct_change(data, \"close_future\", interval = interval)\n",
    "        data[\"y_values\"] = data[\"close_future_relative_diff_forward\"].apply(assign_value, args=(threshold,))\n",
    "        \n",
    "        data = data.dropna(axis=\"rows\", how=\"any\")\n",
    "        \n",
    "        # Fit XGB Classifier\n",
    "        y = data[\"y_values\"]\n",
    "        X = data.drop(axis=\"columns\", labels=[\"y_values\", \"close_future_relative_diff_forward\"])\n",
    "        \n",
    "        total_periods = len(data[\"y_values\"])\n",
    "        proportion = len(data[(data[\"y_values\"] == 0) | (data[\"y_values\"] == 1)]) / total_periods\n",
    "        accuracy_score = xgb_classifier_accuracy(X, y, 5)\n",
    "        \n",
    "        # Append results\n",
    "        proportion_ls.append(proportion)\n",
    "        accuracy_ls.append(accuracy_score)\n",
    "        interval_ls.append(interval)\n",
    "        threshold_ls.append(threshold)\n",
    "        periods_ls.append(total_periods)\n",
    "        \n",
    "        # Print results\n",
    "        print(f\"Outside Threshold Proportion: {round(proportion,3)}, Accuracy: {round(accuracy_score, 3)}, Interval: {interval}, Threshold: {threshold}\")"
   ]
  },
  {
   "cell_type": "code",
   "execution_count": 25,
   "id": "81f7e092-8424-489e-b4e2-9973ca8c167d",
   "metadata": {},
   "outputs": [],
   "source": [
    "results = {\"Proportion\": proportion_ls, \"Accuracy\": accuracy_ls, \"Interval\": interval_ls, \"Threshold\": threshold_ls, \"Period\": periods_ls}"
   ]
  },
  {
   "cell_type": "code",
   "execution_count": 26,
   "id": "4668d361-28a4-4c13-879d-aca84bcd0598",
   "metadata": {},
   "outputs": [],
   "source": [
    "results_df = pd.DataFrame(results, index = None)"
   ]
  },
  {
   "cell_type": "markdown",
   "id": "90d29f20-f061-4393-8a1d-bb79adcae273",
   "metadata": {},
   "source": [
    "### Graphing the results"
   ]
  },
  {
   "cell_type": "code",
   "execution_count": 29,
   "id": "650cb8fb-3cd5-4f0f-a0ff-7341a523b4c7",
   "metadata": {},
   "outputs": [
    {
     "data": {
      "text/html": [
       "<div>\n",
       "<style scoped>\n",
       "    .dataframe tbody tr th:only-of-type {\n",
       "        vertical-align: middle;\n",
       "    }\n",
       "\n",
       "    .dataframe tbody tr th {\n",
       "        vertical-align: top;\n",
       "    }\n",
       "\n",
       "    .dataframe thead th {\n",
       "        text-align: right;\n",
       "    }\n",
       "</style>\n",
       "<table border=\"1\" class=\"dataframe\">\n",
       "  <thead>\n",
       "    <tr style=\"text-align: right;\">\n",
       "      <th></th>\n",
       "      <th>Proportion</th>\n",
       "      <th>Accuracy</th>\n",
       "      <th>Interval</th>\n",
       "      <th>Threshold</th>\n",
       "      <th>Period</th>\n",
       "    </tr>\n",
       "  </thead>\n",
       "  <tbody>\n",
       "    <tr>\n",
       "      <th>0</th>\n",
       "      <td>0.784730</td>\n",
       "      <td>0.442195</td>\n",
       "      <td>1</td>\n",
       "      <td>0.01</td>\n",
       "      <td>109402</td>\n",
       "    </tr>\n",
       "    <tr>\n",
       "      <th>1</th>\n",
       "      <td>0.839278</td>\n",
       "      <td>0.426188</td>\n",
       "      <td>2</td>\n",
       "      <td>0.01</td>\n",
       "      <td>109400</td>\n",
       "    </tr>\n",
       "    <tr>\n",
       "      <th>2</th>\n",
       "      <td>0.898294</td>\n",
       "      <td>0.458050</td>\n",
       "      <td>5</td>\n",
       "      <td>0.01</td>\n",
       "      <td>109394</td>\n",
       "    </tr>\n",
       "    <tr>\n",
       "      <th>3</th>\n",
       "      <td>0.929633</td>\n",
       "      <td>0.483544</td>\n",
       "      <td>10</td>\n",
       "      <td>0.01</td>\n",
       "      <td>109384</td>\n",
       "    </tr>\n",
       "    <tr>\n",
       "      <th>4</th>\n",
       "      <td>0.943213</td>\n",
       "      <td>0.457723</td>\n",
       "      <td>15</td>\n",
       "      <td>0.01</td>\n",
       "      <td>109374</td>\n",
       "    </tr>\n",
       "    <tr>\n",
       "      <th>...</th>\n",
       "      <td>...</td>\n",
       "      <td>...</td>\n",
       "      <td>...</td>\n",
       "      <td>...</td>\n",
       "      <td>...</td>\n",
       "    </tr>\n",
       "    <tr>\n",
       "      <th>95</th>\n",
       "      <td>0.509548</td>\n",
       "      <td>0.504829</td>\n",
       "      <td>30</td>\n",
       "      <td>0.19</td>\n",
       "      <td>109344</td>\n",
       "    </tr>\n",
       "    <tr>\n",
       "      <th>96</th>\n",
       "      <td>0.652902</td>\n",
       "      <td>0.387799</td>\n",
       "      <td>60</td>\n",
       "      <td>0.19</td>\n",
       "      <td>109286</td>\n",
       "    </tr>\n",
       "    <tr>\n",
       "      <th>97</th>\n",
       "      <td>0.722301</td>\n",
       "      <td>0.371880</td>\n",
       "      <td>90</td>\n",
       "      <td>0.19</td>\n",
       "      <td>109226</td>\n",
       "    </tr>\n",
       "    <tr>\n",
       "      <th>98</th>\n",
       "      <td>0.769145</td>\n",
       "      <td>0.362396</td>\n",
       "      <td>120</td>\n",
       "      <td>0.19</td>\n",
       "      <td>109168</td>\n",
       "    </tr>\n",
       "    <tr>\n",
       "      <th>99</th>\n",
       "      <td>0.868856</td>\n",
       "      <td>0.429958</td>\n",
       "      <td>240</td>\n",
       "      <td>0.19</td>\n",
       "      <td>108934</td>\n",
       "    </tr>\n",
       "  </tbody>\n",
       "</table>\n",
       "<p>100 rows × 5 columns</p>\n",
       "</div>"
      ],
      "text/plain": [
       "    Proportion  Accuracy  Interval  Threshold  Period\n",
       "0     0.784730  0.442195         1       0.01  109402\n",
       "1     0.839278  0.426188         2       0.01  109400\n",
       "2     0.898294  0.458050         5       0.01  109394\n",
       "3     0.929633  0.483544        10       0.01  109384\n",
       "4     0.943213  0.457723        15       0.01  109374\n",
       "..         ...       ...       ...        ...     ...\n",
       "95    0.509548  0.504829        30       0.19  109344\n",
       "96    0.652902  0.387799        60       0.19  109286\n",
       "97    0.722301  0.371880        90       0.19  109226\n",
       "98    0.769145  0.362396       120       0.19  109168\n",
       "99    0.868856  0.429958       240       0.19  108934\n",
       "\n",
       "[100 rows x 5 columns]"
      ]
     },
     "execution_count": 29,
     "metadata": {},
     "output_type": "execute_result"
    }
   ],
   "source": [
    "results_df"
   ]
  },
  {
   "cell_type": "code",
   "execution_count": 36,
   "id": "c038b533-64e1-4d72-b549-7228721e589b",
   "metadata": {},
   "outputs": [
    {
     "data": {
      "image/png": "[encoded data removed]",
      "text/plain": [
       "<Figure size 1008x432 with 1 Axes>"
      ]
     },
     "metadata": {
      "needs_background": "light"
     },
     "output_type": "display_data"
    }
   ],
   "source": [
    "plt.figure(figsize = (14, 6))\n",
    "\n",
    "intervals = results_df['Interval'].unique()\n",
    "\n",
    "# Plotting scatter plot for each group\n",
    "for interval in intervals:\n",
    "    interval_data = results_df[results_df['Interval'] == interval]\n",
    "    plt.scatter(interval_data['Proportion'], interval_data['Accuracy'], label=interval)\n",
    "\n",
    "# Adding labels and title\n",
    "plt.xlabel('Proportion')\n",
    "plt.ylabel('Accuracy')\n",
    "plt.legend()\n",
    "plt.title('Accuracy of XGBoost Model vs. Proportion of Predicted Values Surpassing Thresholds, Segmented by Interval')\n",
    "\n",
    "# Displaying the plot\n",
    "plt.show()"
   ]
  },
  {
   "cell_type": "code",
   "execution_count": null,
   "id": "17557fa8-0d8e-4511-b174-3ff3a2f72c7c",
   "metadata": {},
   "outputs": [],
   "source": []
  }
 ],
 "metadata": {
  "kernelspec": {
   "display_name": "Python 3 (ipykernel)",
   "language": "python",
   "name": "python3"
  },
  "language_info": {
   "codemirror_mode": {
    "name": "ipython",
    "version": 3
   },
   "file_extension": ".py",
   "mimetype": "text/x-python",
   "name": "python",
   "nbconvert_exporter": "python",
   "pygments_lexer": "ipython3",
   "version": "3.9.12"
  }
 },
 "nbformat": 4,
 "nbformat_minor": 5
}
