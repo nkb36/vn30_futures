{
 "cells": [
  {
   "cell_type": "markdown",
   "id": "e2c74065-3714-4818-ae8a-44bc0844aa2f",
   "metadata": {},
   "source": [
    "# Data Ingesting & Wrangling Code"
   ]
  },
  {
   "cell_type": "markdown",
   "id": "bec91f7c-71da-4d04-bf03-b7659feaf4d6",
   "metadata": {},
   "source": [
    "## Importing Modules & Data"
   ]
  },
  {
   "cell_type": "code",
   "execution_count": 1,
   "id": "2d301242-ef0e-46c2-a5ec-ad3ea6ed3faa",
   "metadata": {},
   "outputs": [],
   "source": [
    "import numpy as np\n",
    "import pandas as pd\n",
    "import matplotlib.pyplot as plt"
   ]
  },
  {
   "cell_type": "code",
   "execution_count": 2,
   "id": "e0421915-83d2-445e-a4b0-3e59c9ec55be",
   "metadata": {},
   "outputs": [],
   "source": [
    "df = pd.read_csv(f\"../data/VN30INDEX-20230627.csv\")"
   ]
  },
  {
   "cell_type": "code",
   "execution_count": 3,
   "id": "0b718140-2641-46e6-915d-2d249e7ba923",
   "metadata": {},
   "outputs": [
    {
     "data": {
      "text/html": [
       "<div>\n",
       "<style scoped>\n",
       "    .dataframe tbody tr th:only-of-type {\n",
       "        vertical-align: middle;\n",
       "    }\n",
       "\n",
       "    .dataframe tbody tr th {\n",
       "        vertical-align: top;\n",
       "    }\n",
       "\n",
       "    .dataframe thead th {\n",
       "        text-align: right;\n",
       "    }\n",
       "</style>\n",
       "<table border=\"1\" class=\"dataframe\">\n",
       "  <thead>\n",
       "    <tr style=\"text-align: right;\">\n",
       "      <th></th>\n",
       "      <th>SYMBOL</th>\n",
       "      <th>TRADING_DATE</th>\n",
       "      <th>OPEN_PRICE/1000</th>\n",
       "      <th>CLOSE_PRICE/1000</th>\n",
       "      <th>HIGH_PRICE/1000</th>\n",
       "      <th>LOW_PRICE/1000</th>\n",
       "      <th>OPEN_INTEREST</th>\n",
       "      <th>VOLUME</th>\n",
       "      <th>BUY_VOLUME</th>\n",
       "      <th>SELL_VOLUME</th>\n",
       "    </tr>\n",
       "  </thead>\n",
       "  <tbody>\n",
       "    <tr>\n",
       "      <th>0</th>\n",
       "      <td>VN30</td>\n",
       "      <td>20230626 14:45:01</td>\n",
       "      <td>1131.23</td>\n",
       "      <td>1131.23</td>\n",
       "      <td>1131.23</td>\n",
       "      <td>1131.23</td>\n",
       "      <td>0</td>\n",
       "      <td>10136300</td>\n",
       "      <td>0</td>\n",
       "      <td>0</td>\n",
       "    </tr>\n",
       "    <tr>\n",
       "      <th>1</th>\n",
       "      <td>VN30</td>\n",
       "      <td>20230626 14:30:01</td>\n",
       "      <td>1128.91</td>\n",
       "      <td>1128.91</td>\n",
       "      <td>1128.91</td>\n",
       "      <td>1128.91</td>\n",
       "      <td>0</td>\n",
       "      <td>39500</td>\n",
       "      <td>0</td>\n",
       "      <td>0</td>\n",
       "    </tr>\n",
       "    <tr>\n",
       "      <th>2</th>\n",
       "      <td>VN30</td>\n",
       "      <td>20230626 14:29:56</td>\n",
       "      <td>1129.01</td>\n",
       "      <td>1128.45</td>\n",
       "      <td>1129.24</td>\n",
       "      <td>1128.45</td>\n",
       "      <td>0</td>\n",
       "      <td>1426300</td>\n",
       "      <td>0</td>\n",
       "      <td>0</td>\n",
       "    </tr>\n",
       "    <tr>\n",
       "      <th>3</th>\n",
       "      <td>VN30</td>\n",
       "      <td>20230626 14:28:58</td>\n",
       "      <td>1128.24</td>\n",
       "      <td>1129.04</td>\n",
       "      <td>1129.14</td>\n",
       "      <td>1127.72</td>\n",
       "      <td>0</td>\n",
       "      <td>1364400</td>\n",
       "      <td>0</td>\n",
       "      <td>0</td>\n",
       "    </tr>\n",
       "    <tr>\n",
       "      <th>4</th>\n",
       "      <td>VN30</td>\n",
       "      <td>20230626 14:27:58</td>\n",
       "      <td>1128.34</td>\n",
       "      <td>1128.32</td>\n",
       "      <td>1128.52</td>\n",
       "      <td>1128.02</td>\n",
       "      <td>0</td>\n",
       "      <td>1616400</td>\n",
       "      <td>0</td>\n",
       "      <td>0</td>\n",
       "    </tr>\n",
       "  </tbody>\n",
       "</table>\n",
       "</div>"
      ],
      "text/plain": [
       "  SYMBOL       TRADING_DATE  OPEN_PRICE/1000  CLOSE_PRICE/1000  \\\n",
       "0   VN30  20230626 14:45:01          1131.23           1131.23   \n",
       "1   VN30  20230626 14:30:01          1128.91           1128.91   \n",
       "2   VN30  20230626 14:29:56          1129.01           1128.45   \n",
       "3   VN30  20230626 14:28:58          1128.24           1129.04   \n",
       "4   VN30  20230626 14:27:58          1128.34           1128.32   \n",
       "\n",
       "   HIGH_PRICE/1000  LOW_PRICE/1000  OPEN_INTEREST    VOLUME  BUY_VOLUME  \\\n",
       "0          1131.23         1131.23              0  10136300           0   \n",
       "1          1128.91         1128.91              0     39500           0   \n",
       "2          1129.24         1128.45              0   1426300           0   \n",
       "3          1129.14         1127.72              0   1364400           0   \n",
       "4          1128.52         1128.02              0   1616400           0   \n",
       "\n",
       "   SELL_VOLUME  \n",
       "0            0  \n",
       "1            0  \n",
       "2            0  \n",
       "3            0  \n",
       "4            0  "
      ]
     },
     "execution_count": 3,
     "metadata": {},
     "output_type": "execute_result"
    }
   ],
   "source": [
    "df.head()"
   ]
  },
  {
   "cell_type": "code",
   "execution_count": 4,
   "id": "395248f3-376f-45a6-ac40-4967be17ecc5",
   "metadata": {},
   "outputs": [
    {
     "data": {
      "text/plain": [
       "(140122, 10)"
      ]
     },
     "execution_count": 4,
     "metadata": {},
     "output_type": "execute_result"
    }
   ],
   "source": [
    "df.shape"
   ]
  },
  {
   "cell_type": "markdown",
   "id": "868b4426-980e-4208-960e-42fe2feae9b6",
   "metadata": {},
   "source": [
    "## Time Data Cleaning\n",
    "### 1. Function to round the datetime to the nearest minute"
   ]
  },
  {
   "cell_type": "code",
   "execution_count": 5,
   "id": "396266d3-4753-414f-a327-d58a29ec0592",
   "metadata": {},
   "outputs": [
    {
     "name": "stderr",
     "output_type": "stream",
     "text": [
      "/var/folders/sh/hbp85fl56x95nw9ps4scnxlc0000gn/T/ipykernel_47885/4185880905.py:2: DeprecationWarning: The default dtype for empty Series will be 'object' instead of 'float64' in a future version. Specify a dtype explicitly to silence this warning.\n",
      "  def round_datetime(dt) -> pd.Series():\n"
     ]
    }
   ],
   "source": [
    "# Pass in a datetime series column in format YYYYMMDD HH:mm:ss\n",
    "def round_datetime(dt) -> pd.Series():\n",
    "    year = dt.str[:4].astype(int)\n",
    "    month = dt.str[4:6].astype(int)\n",
    "    day = dt.str[6:8].astype(int)\n",
    "    hour = dt.str[9:11].astype(int)\n",
    "    minute = dt.str[12:14].astype(int)\n",
    "    second = dt.str[15:17].astype(int)\n",
    "    \n",
    "    datetime = pd.to_datetime({'year': year, 'month': month, 'day': day, 'hour': hour, 'minute': minute, 'second': second})\n",
    "    rounded_datetime = pd.Series(datetime).dt.round(\"min\")\n",
    "\n",
    "    return rounded_datetime"
   ]
  },
  {
   "cell_type": "markdown",
   "id": "f1492f72-bde4-4ab6-943a-8a547a37509a",
   "metadata": {},
   "source": [
    "### 2. Functions to create template dataframe on trading days"
   ]
  },
  {
   "cell_type": "code",
   "execution_count": 6,
   "id": "954c7354-27c6-43c0-b94b-2102b414f7f8",
   "metadata": {},
   "outputs": [],
   "source": [
    "custom_holidays = pd.to_datetime([\n",
    "    '01-02-2017', '01-27-2017', '01-30-2017', '01-31-2017', '02-01-2017', '02-02-2017', '04-06-2017', '05-01-2017', '05-02-2017', '09-04-2017',\n",
    "    '01-01-2018', '02-14-2018', '02-15-2018', '02-16-2018', '02-17-2018', '02-18-2018', '02-19-2018', '02-20-2018', '04-25-2018', '04-30-2018', '05-01-2018', '09-03-2018',\n",
    "    '12-31-2018', '01-01-2019', '02-04-2019', '02-05-2019', '02-06-2019', '02-07-2019', '02-08-2019', '04-15-2019', '04-29-2019', '04-30-2019', '05-01-2019', '09-02-2019',\n",
    "    '01-01-2020', '01-23-2020', '01-24-2020', '01-25-2020', '01-26-2020', '01-27-2020', '01-28-2020', '01-29-2020', '04-02-2020', '04-30-2020', '05-01-2020', '09-02-2020',\n",
    "    '01-01-2021', '02-10-2021', '02-11-2021', '02-12-2021', '02-15-2021', '02-16-2021', '04-21-2021', '04-30-2021', '05-03-2021', '09-02-2021', '09-03-2021',\n",
    "    '01-03-2022', '01-31-2022', '02-01-2022', '02-02-2022', '02-03-2022', '02-04-2022', '04-11-2022', '05-02-2022', '05-03-2022', '09-01-2022', '09-02-2022',\n",
    "    '01-02-2023', '01-20-2023', '01-21-2023', '01-22-2023', '01-23-2023', '01-24-2023', '01-25-2023', '01-26-2023', '05-01-2023', '05-02-2023', '05-03-2023', '09-04-2023', '09-05-2023'\n",
    "])"
   ]
  },
  {
   "cell_type": "code",
   "execution_count": 7,
   "id": "d2e5e2c3-3e48-4110-ad35-eab4d0aa4e26",
   "metadata": {},
   "outputs": [
    {
     "name": "stderr",
     "output_type": "stream",
     "text": [
      "/var/folders/sh/hbp85fl56x95nw9ps4scnxlc0000gn/T/ipykernel_47885/3259015847.py:3: DeprecationWarning: The default dtype for empty Series will be 'object' instead of 'float64' in a future version. Specify a dtype explicitly to silence this warning.\n",
      "  def get_tradingperiods(start_date, end_date) -> pd.Series():\n"
     ]
    }
   ],
   "source": [
    "from pandas.tseries.offsets import CustomBusinessDay\n",
    "# Create a Pandas series with minute frequency between 9-11:30AM and 1-2:30PM each day for specified period\n",
    "def get_tradingperiods(start_date, end_date) -> pd.Series():\n",
    "    custom_bday = CustomBusinessDay(holidays=custom_holidays)\n",
    "    business_days = pd.bdate_range(start=start_date, end=end_date, freq=custom_bday)\n",
    "    \n",
    "    dates_range = pd.date_range(start=start_date, end=end_date, freq = 'D')\n",
    "    dt = []\n",
    "    for date in dates_range:\n",
    "        if date.date() in business_days.date:\n",
    "            morning_range = pd.date_range(start=date.replace(hour=9, minute=16), end=date.replace(hour=11, minute=30), freq='min')\n",
    "            afternoon_range = pd.date_range(start=date.replace(hour=13,minute=0), end=date.replace(hour=14, minute=30), freq='min')\n",
    "            dt.extend(morning_range)\n",
    "            dt.extend(afternoon_range)\n",
    "    dt = pd.Series(dt)\n",
    "    \n",
    "    return dt"
   ]
  },
  {
   "cell_type": "markdown",
   "id": "19fabbb4-68da-4988-9a9e-d4e79b3bcaff",
   "metadata": {},
   "source": [
    "### 3. Function to join dataframe based on datetime & fill NaN values"
   ]
  },
  {
   "cell_type": "code",
   "execution_count": 8,
   "id": "e253ff7d-d414-4c5c-ac86-b65d27c3a8ee",
   "metadata": {},
   "outputs": [],
   "source": [
    "# Left join based\n",
    "def join_by_datetime(df1, df2) -> pd.DataFrame():\n",
    "    df = df1.merge(df2, how='left', left_index=True, right_index=True)\n",
    "    \n",
    "    df.fillna(method='ffill')\n",
    "    return df"
   ]
  },
  {
   "cell_type": "markdown",
   "id": "ecf301db-b30a-40aa-9687-b0567e8db21b",
   "metadata": {},
   "source": [
    "## Creating a date cleaned dataframe"
   ]
  },
  {
   "cell_type": "code",
   "execution_count": 9,
   "id": "fb7fe264-41c1-4aae-8345-67f58331e56b",
   "metadata": {},
   "outputs": [],
   "source": [
    "# Round the datetime values\n",
    "df = df.set_index(round_datetime(df[\"TRADING_DATE\"]))"
   ]
  },
  {
   "cell_type": "code",
   "execution_count": 10,
   "id": "60a9722f-316c-46b5-a889-847b21f8aeaa",
   "metadata": {},
   "outputs": [],
   "source": [
    "# Removing duplicates in dates / index\n",
    "duplicates_index = df.index.duplicated(keep='last')\n",
    "df = df[~duplicates_index]"
   ]
  },
  {
   "cell_type": "code",
   "execution_count": 11,
   "id": "5fc40245-9af6-4d0f-8b89-df81738b59a8",
   "metadata": {},
   "outputs": [],
   "source": [
    "# Make an empty dataframe with the right datetime as index\n",
    "start = df.index.min()\n",
    "end = df.index.max() - pd.DateOffset(days=1)\n",
    "df1 = pd.DataFrame(index = get_tradingperiods(start, end), data = None)"
   ]
  },
  {
   "cell_type": "code",
   "execution_count": 12,
   "id": "8d7e5af0-ef03-4531-ae6d-90e0eb2c69eb",
   "metadata": {},
   "outputs": [],
   "source": [
    "# Merge data\n",
    "df = df1.merge(df, how='left', left_index=True, right_index=True)"
   ]
  },
  {
   "cell_type": "code",
   "execution_count": 13,
   "id": "d3041b40-30b6-4b6d-87ff-c52da8712d36",
   "metadata": {},
   "outputs": [],
   "source": [
    "# Forward fill for NaN values\n",
    "df = df.fillna(method = \"ffill\")"
   ]
  },
  {
   "cell_type": "code",
   "execution_count": 14,
   "id": "23f5cc91-8707-4d3a-85f3-ba3bfa309ba4",
   "metadata": {},
   "outputs": [],
   "source": [
    "df.columns = df.columns.str.lower()"
   ]
  },
  {
   "cell_type": "markdown",
   "id": "a08131e4-b41c-4ae5-a908-d708da61f19f",
   "metadata": {},
   "source": [
    "## Create new date & time features\n",
    "### Calculate number of days until maturity"
   ]
  },
  {
   "cell_type": "code",
   "execution_count": 15,
   "id": "e43f6262-1093-445b-a07f-08a17d91613e",
   "metadata": {},
   "outputs": [],
   "source": [
    "def trading_days_to_maturity(dt):\n",
    "    dates = dt.groupby(dt.date)\n",
    "    days_to_maturity = []\n",
    "    \n",
    "    for date in dates:\n",
    "        this_month_beg = date - pd.offsets.MonthBegin()\n",
    "        this_month_end = this_month_beg + pd.offsets.MonthEnd()\n",
    "        next_month_beg = date + pd.offsets.MonthBegin()\n",
    "        next_month_end = next_month_beg + pd.offsets.MonthEnd()\n",
    "        \n",
    "        third_thurs = pd.date_range(start = this_month_beg, end = this_month_end, freq = 'WOM-3THU')[0]\n",
    "\n",
    "        if date <= third_thurs.date():\n",
    "            maturity = third_thurs\n",
    "        else:\n",
    "            maturity = pd.date_range(start = next_month_beg, end = next_month_end, freq = 'WOM-3THU')[0]\n",
    "        \n",
    "        custom_bday = CustomBusinessDay(holidays=custom_holidays)\n",
    "        business_days = pd.bdate_range(start=date, end=maturity, freq=custom_bday)\n",
    "        num_days = len(business_days)\n",
    "        repeat_count = len(df[dt.date == date])\n",
    "\n",
    "        new_series = np.tile(num_days, repeat_count)\n",
    "        days_to_maturity.extend(new_series)\n",
    "\n",
    "    return days_to_maturity"
   ]
  },
  {
   "cell_type": "code",
   "execution_count": 16,
   "id": "d1aa695e-ccfd-4dbc-85ab-194fb0edc744",
   "metadata": {},
   "outputs": [],
   "source": [
    "days_to_maturity = trading_days_to_maturity(df.index)"
   ]
  },
  {
   "cell_type": "code",
   "execution_count": 17,
   "id": "e6f4ce4a-53ed-4192-9317-4d9999320bf3",
   "metadata": {},
   "outputs": [],
   "source": [
    "df[\"days_to_maturity\"] = days_to_maturity"
   ]
  },
  {
   "cell_type": "markdown",
   "id": "1b1db603-41fe-48a1-9aa1-e7065e29ef7c",
   "metadata": {},
   "source": [
    "## Other datetime variables"
   ]
  },
  {
   "cell_type": "code",
   "execution_count": 18,
   "id": "db9f250e-7841-466d-b92a-f0ef02340c75",
   "metadata": {},
   "outputs": [],
   "source": [
    "df['day_of_week'] = df.index.day_of_week\n",
    "df['day_of_year'] = df.index.day_of_year\n",
    "df['is_month_end'] = df.index.is_month_end.astype(int)\n",
    "df['is_month_start'] = df.index.is_month_start.astype(int)"
   ]
  },
  {
   "cell_type": "code",
   "execution_count": 19,
   "id": "60ef33c9-41a0-4dcc-a6da-fd5b2afc0156",
   "metadata": {},
   "outputs": [],
   "source": [
    "df['is_morning'] = np.where((df.index.hour < 12), 1, 0)"
   ]
  },
  {
   "cell_type": "markdown",
   "id": "1d2dddba-5c23-49a9-b4d9-7fcf99464550",
   "metadata": {},
   "source": [
    "## Resampling to get other intervals"
   ]
  },
  {
   "cell_type": "code",
   "execution_count": 20,
   "id": "df90f021-c6bd-4eda-8822-a8b5631dfee5",
   "metadata": {},
   "outputs": [],
   "source": [
    "df.rename(columns = {\"open_price/1000\": \"open\", \"close_price/1000\": \"close\", \"high_price/1000\": \"high\", \"low_price/1000\": \"low\", \"trading_date\": \"raw_date\", \"open_interest\" : \"eod_open_interest\"}, inplace=True)"
   ]
  },
  {
   "cell_type": "code",
   "execution_count": 21,
   "id": "5011f83c-a369-4b4e-8a5d-cc4c98feb9b8",
   "metadata": {},
   "outputs": [],
   "source": [
    "aggregations = {\n",
    "    'open': 'last',\n",
    "    'close': 'last',\n",
    "    'high' : 'max',\n",
    "    'low' : 'min',\n",
    "    'eod_open_interest' : 'last',\n",
    "    'volume' : 'sum',\n",
    "    'buy_volume': 'sum',\n",
    "    'sell_volume': 'sum',\n",
    "    'day_of_week': 'last',\n",
    "    'day_of_year': 'last',\n",
    "    'is_month_end': 'last',\n",
    "    'is_month_start': 'last',\n",
    "    'is_morning': 'last',\n",
    "    'days_to_maturity': 'last',\n",
    "}\n",
    "\n",
    "df_1min = df\n",
    "df_5min = df.resample('5min', label='right', closed='right').agg(aggregations)\n",
    "df_10min = df.resample('10min', label='right', closed='right').agg(aggregations)\n",
    "df_15min = df.resample('15min', label='right', closed='right').agg(aggregations)\n",
    "df_30min = df.resample('30min', label='right', closed='right').agg(aggregations)\n",
    "df_1hour = df.resample('1H', label='right', closed='right').agg(aggregations)"
   ]
  },
  {
   "cell_type": "code",
   "execution_count": 22,
   "id": "4ad84245-fb6c-43a2-88bb-8b7e8cc980f1",
   "metadata": {},
   "outputs": [],
   "source": [
    "df_5min.dropna(axis=0, how='any', inplace=True)\n",
    "df_10min.dropna(axis=0, how='any', inplace=True)\n",
    "df_15min.dropna(axis=0, how='any', inplace=True)\n",
    "df_30min.dropna(axis=0, how='any', inplace=True)\n",
    "df_1hour.dropna(axis=0, how='any', inplace=True)"
   ]
  },
  {
   "cell_type": "markdown",
   "id": "af75cb90-ba70-4d29-bafc-71b8ee685d45",
   "metadata": {},
   "source": [
    "## Export results"
   ]
  },
  {
   "cell_type": "code",
   "execution_count": 23,
   "id": "13b27516-4647-4db6-aec8-ffd85d0d7eb0",
   "metadata": {},
   "outputs": [
    {
     "name": "stdout",
     "output_type": "stream",
     "text": [
      "The data series has 617 days\n",
      "The data series has 139442 periods\n",
      "Each day the series has 226.0 rows\n"
     ]
    }
   ],
   "source": [
    "# Checking the number of data rows\n",
    "num_days = pd.Series(df.index.date).nunique()\n",
    "print(f\"The data series has {num_days} days\")\n",
    "print(f\"The data series has {df.shape[0]} periods\")\n",
    "print(f\"Each day the series has {df.shape[0] / num_days} rows\")"
   ]
  },
  {
   "cell_type": "code",
   "execution_count": 24,
   "id": "9552b7ce-9d92-45d1-b0be-9e251b4083ee",
   "metadata": {},
   "outputs": [],
   "source": [
    "df_1min.to_csv(r\"../data/VN30_1min_cleaned.csv\")\n",
    "df_5min.to_csv(r\"../data/VN30_5min_cleaned.csv\")\n",
    "df_10min.to_csv(r\"../data/VN30_10min_cleaned.csv\")\n",
    "df_15min.to_csv(r\"../data/VN30_15min_cleaned.csv\")\n",
    "df_30min.to_csv(r\"../data/VN30_30min_cleaned.csv\")\n",
    "df_1hour.to_csv(r\"../data/VN30_1hour_cleaned.csv\")"
   ]
  },
  {
   "cell_type": "code",
   "execution_count": null,
   "id": "844b5528-5e02-4461-8a6d-4e0fea644b9b",
   "metadata": {},
   "outputs": [],
   "source": []
  },
  {
   "cell_type": "markdown",
   "id": "82c4a91c-931e-467a-be08-5e7d4d7ba47c",
   "metadata": {},
   "source": [
    "## Other Ideas"
   ]
  },
  {
   "cell_type": "raw",
   "id": "1fccd488-078a-4671-9255-c3d652e81878",
   "metadata": {},
   "source": [
    "df['est_average'] = (df[\"open\"] + df[\"close\"])/2\n",
    "df['est_trading_val'] = df['volume'] * df['est_average']"
   ]
  },
  {
   "cell_type": "raw",
   "id": "1238e1a2-f28d-4380-8957-6e52e383f5e9",
   "metadata": {},
   "source": [
    "# Get cumulative trading value and volume\n",
    "df[\"cum_sum_tradingval\"] = df[\"est_trading_val\"].groupby(pd.Grouper(freq='D')).cumsum()\n",
    "df[\"cum_sum_volume\"] = df[\"volume\"].groupby(pd.Grouper(freq='D')).cumsum()\n",
    "df[\"cum_buy_volume\"] = df[\"buy_volume\"].groupby(pd.Grouper(freq='D')).cumsum()\n",
    "df[\"cum_sell_volume\"] = df[\"sell_volume\"].groupby(pd.Grouper(freq='D')).cumsum()"
   ]
  },
  {
   "cell_type": "code",
   "execution_count": null,
   "id": "e8a7c5f6-fd2a-4a04-8116-9498395f7bfa",
   "metadata": {},
   "outputs": [],
   "source": []
  },
  {
   "cell_type": "code",
   "execution_count": null,
   "id": "1796346c-d440-461b-a063-bd75e72b13b4",
   "metadata": {},
   "outputs": [],
   "source": []
  }
 ],
 "metadata": {
  "kernelspec": {
   "display_name": "Python 3 (ipykernel)",
   "language": "python",
   "name": "python3"
  },
  "language_info": {
   "codemirror_mode": {
    "name": "ipython",
    "version": 3
   },
   "file_extension": ".py",
   "mimetype": "text/x-python",
   "name": "python",
   "nbconvert_exporter": "python",
   "pygments_lexer": "ipython3",
   "version": "3.9.12"
  }
 },
 "nbformat": 4,
 "nbformat_minor": 5
}
