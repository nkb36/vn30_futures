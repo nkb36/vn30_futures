{
 "cells": [
  {
   "cell_type": "code",
   "execution_count": 1,
   "id": "546d4607-0582-41dc-971f-b0c79bd5f4be",
   "metadata": {},
   "outputs": [],
   "source": [
    "import numpy as np\n",
    "import pandas as pd\n",
    "import matplotlib.pyplot as plt"
   ]
  },
  {
   "cell_type": "code",
   "execution_count": 2,
   "id": "e0421915-83d2-445e-a4b0-3e59c9ec55be",
   "metadata": {},
   "outputs": [],
   "source": [
    "df = pd.read_csv(f\"../data/VN30F1M-20230626.csv\")"
   ]
  },
  {
   "cell_type": "code",
   "execution_count": 3,
   "id": "5b63910b-c912-4c40-9a49-4c2781750e81",
   "metadata": {},
   "outputs": [
    {
     "data": {
      "text/html": [
       "<div>\n",
       "<style scoped>\n",
       "    .dataframe tbody tr th:only-of-type {\n",
       "        vertical-align: middle;\n",
       "    }\n",
       "\n",
       "    .dataframe tbody tr th {\n",
       "        vertical-align: top;\n",
       "    }\n",
       "\n",
       "    .dataframe thead th {\n",
       "        text-align: right;\n",
       "    }\n",
       "</style>\n",
       "<table border=\"1\" class=\"dataframe\">\n",
       "  <thead>\n",
       "    <tr style=\"text-align: right;\">\n",
       "      <th></th>\n",
       "      <th>SYMBOL</th>\n",
       "      <th>TRADING_DATE</th>\n",
       "      <th>OPEN_PRICE/1000</th>\n",
       "      <th>CLOSE_PRICE/1000</th>\n",
       "      <th>HIGH_PRICE/1000</th>\n",
       "      <th>LOW_PRICE/1000</th>\n",
       "      <th>OPEN_INTEREST</th>\n",
       "      <th>VOLUME</th>\n",
       "      <th>BUY_VOLUME</th>\n",
       "      <th>SELL_VOLUME</th>\n",
       "    </tr>\n",
       "  </thead>\n",
       "  <tbody>\n",
       "    <tr>\n",
       "      <th>0</th>\n",
       "      <td>VN30F1M</td>\n",
       "      <td>20230626 13:03:40</td>\n",
       "      <td>1114.7</td>\n",
       "      <td>1114.2</td>\n",
       "      <td>1114.7</td>\n",
       "      <td>1114.2</td>\n",
       "      <td>50146</td>\n",
       "      <td>312</td>\n",
       "      <td>279</td>\n",
       "      <td>33</td>\n",
       "    </tr>\n",
       "    <tr>\n",
       "      <th>1</th>\n",
       "      <td>VN30F1M</td>\n",
       "      <td>20230626 13:02:57</td>\n",
       "      <td>1115.7</td>\n",
       "      <td>1114.9</td>\n",
       "      <td>1115.7</td>\n",
       "      <td>1114.9</td>\n",
       "      <td>50146</td>\n",
       "      <td>419</td>\n",
       "      <td>386</td>\n",
       "      <td>33</td>\n",
       "    </tr>\n",
       "    <tr>\n",
       "      <th>2</th>\n",
       "      <td>VN30F1M</td>\n",
       "      <td>20230626 13:01:59</td>\n",
       "      <td>1114.9</td>\n",
       "      <td>1115.8</td>\n",
       "      <td>1115.9</td>\n",
       "      <td>1114.8</td>\n",
       "      <td>50146</td>\n",
       "      <td>895</td>\n",
       "      <td>132</td>\n",
       "      <td>763</td>\n",
       "    </tr>\n",
       "    <tr>\n",
       "      <th>3</th>\n",
       "      <td>VN30F1M</td>\n",
       "      <td>20230626 13:00:57</td>\n",
       "      <td>1114.9</td>\n",
       "      <td>1114.8</td>\n",
       "      <td>1114.9</td>\n",
       "      <td>1114.4</td>\n",
       "      <td>50146</td>\n",
       "      <td>345</td>\n",
       "      <td>155</td>\n",
       "      <td>189</td>\n",
       "    </tr>\n",
       "    <tr>\n",
       "      <th>4</th>\n",
       "      <td>VN30F1M</td>\n",
       "      <td>20230626 11:30:06</td>\n",
       "      <td>1115.0</td>\n",
       "      <td>1114.9</td>\n",
       "      <td>1115.0</td>\n",
       "      <td>1114.9</td>\n",
       "      <td>50146</td>\n",
       "      <td>9</td>\n",
       "      <td>0</td>\n",
       "      <td>1</td>\n",
       "    </tr>\n",
       "    <tr>\n",
       "      <th>...</th>\n",
       "      <td>...</td>\n",
       "      <td>...</td>\n",
       "      <td>...</td>\n",
       "      <td>...</td>\n",
       "      <td>...</td>\n",
       "      <td>...</td>\n",
       "      <td>...</td>\n",
       "      <td>...</td>\n",
       "      <td>...</td>\n",
       "      <td>...</td>\n",
       "    </tr>\n",
       "    <tr>\n",
       "      <th>340940</th>\n",
       "      <td>VN30F1M</td>\n",
       "      <td>20171106 09:03:54</td>\n",
       "      <td>841.6</td>\n",
       "      <td>842.0</td>\n",
       "      <td>842.0</td>\n",
       "      <td>841.6</td>\n",
       "      <td>3336</td>\n",
       "      <td>56</td>\n",
       "      <td>36</td>\n",
       "      <td>20</td>\n",
       "    </tr>\n",
       "    <tr>\n",
       "      <th>340941</th>\n",
       "      <td>VN30F1M</td>\n",
       "      <td>20171106 09:02:57</td>\n",
       "      <td>841.1</td>\n",
       "      <td>841.5</td>\n",
       "      <td>841.5</td>\n",
       "      <td>841.1</td>\n",
       "      <td>3336</td>\n",
       "      <td>37</td>\n",
       "      <td>15</td>\n",
       "      <td>22</td>\n",
       "    </tr>\n",
       "    <tr>\n",
       "      <th>340942</th>\n",
       "      <td>VN30F1M</td>\n",
       "      <td>20171106 09:01:48</td>\n",
       "      <td>841.0</td>\n",
       "      <td>841.0</td>\n",
       "      <td>841.0</td>\n",
       "      <td>840.7</td>\n",
       "      <td>3336</td>\n",
       "      <td>43</td>\n",
       "      <td>35</td>\n",
       "      <td>8</td>\n",
       "    </tr>\n",
       "    <tr>\n",
       "      <th>340943</th>\n",
       "      <td>VN30F1M</td>\n",
       "      <td>20171106 09:00:51</td>\n",
       "      <td>841.0</td>\n",
       "      <td>840.6</td>\n",
       "      <td>841.7</td>\n",
       "      <td>840.6</td>\n",
       "      <td>3336</td>\n",
       "      <td>253</td>\n",
       "      <td>243</td>\n",
       "      <td>10</td>\n",
       "    </tr>\n",
       "    <tr>\n",
       "      <th>340944</th>\n",
       "      <td>VN30F1M</td>\n",
       "      <td>20171106 08:59:59</td>\n",
       "      <td>841.0</td>\n",
       "      <td>841.0</td>\n",
       "      <td>841.0</td>\n",
       "      <td>841.0</td>\n",
       "      <td>3336</td>\n",
       "      <td>1</td>\n",
       "      <td>1</td>\n",
       "      <td>0</td>\n",
       "    </tr>\n",
       "  </tbody>\n",
       "</table>\n",
       "<p>340945 rows × 10 columns</p>\n",
       "</div>"
      ],
      "text/plain": [
       "         SYMBOL       TRADING_DATE  OPEN_PRICE/1000  CLOSE_PRICE/1000  \\\n",
       "0       VN30F1M  20230626 13:03:40           1114.7            1114.2   \n",
       "1       VN30F1M  20230626 13:02:57           1115.7            1114.9   \n",
       "2       VN30F1M  20230626 13:01:59           1114.9            1115.8   \n",
       "3       VN30F1M  20230626 13:00:57           1114.9            1114.8   \n",
       "4       VN30F1M  20230626 11:30:06           1115.0            1114.9   \n",
       "...         ...                ...              ...               ...   \n",
       "340940  VN30F1M  20171106 09:03:54            841.6             842.0   \n",
       "340941  VN30F1M  20171106 09:02:57            841.1             841.5   \n",
       "340942  VN30F1M  20171106 09:01:48            841.0             841.0   \n",
       "340943  VN30F1M  20171106 09:00:51            841.0             840.6   \n",
       "340944  VN30F1M  20171106 08:59:59            841.0             841.0   \n",
       "\n",
       "        HIGH_PRICE/1000  LOW_PRICE/1000  OPEN_INTEREST  VOLUME  BUY_VOLUME  \\\n",
       "0                1114.7          1114.2          50146     312         279   \n",
       "1                1115.7          1114.9          50146     419         386   \n",
       "2                1115.9          1114.8          50146     895         132   \n",
       "3                1114.9          1114.4          50146     345         155   \n",
       "4                1115.0          1114.9          50146       9           0   \n",
       "...                 ...             ...            ...     ...         ...   \n",
       "340940            842.0           841.6           3336      56          36   \n",
       "340941            841.5           841.1           3336      37          15   \n",
       "340942            841.0           840.7           3336      43          35   \n",
       "340943            841.7           840.6           3336     253         243   \n",
       "340944            841.0           841.0           3336       1           1   \n",
       "\n",
       "        SELL_VOLUME  \n",
       "0                33  \n",
       "1                33  \n",
       "2               763  \n",
       "3               189  \n",
       "4                 1  \n",
       "...             ...  \n",
       "340940           20  \n",
       "340941           22  \n",
       "340942            8  \n",
       "340943           10  \n",
       "340944            0  \n",
       "\n",
       "[340945 rows x 10 columns]"
      ]
     },
     "execution_count": 3,
     "metadata": {},
     "output_type": "execute_result"
    }
   ],
   "source": [
    "df"
   ]
  },
  {
   "cell_type": "code",
   "execution_count": 4,
   "id": "200a2290-54e8-4d62-9f35-00f18024f975",
   "metadata": {},
   "outputs": [
    {
     "data": {
      "text/plain": [
       "SYMBOL               object\n",
       "TRADING_DATE         object\n",
       "OPEN_PRICE/1000     float64\n",
       "CLOSE_PRICE/1000    float64\n",
       "HIGH_PRICE/1000     float64\n",
       "LOW_PRICE/1000      float64\n",
       "OPEN_INTEREST         int64\n",
       "VOLUME                int64\n",
       "BUY_VOLUME            int64\n",
       "SELL_VOLUME           int64\n",
       "dtype: object"
      ]
     },
     "execution_count": 4,
     "metadata": {},
     "output_type": "execute_result"
    }
   ],
   "source": [
    "df.dtypes"
   ]
  },
  {
   "cell_type": "markdown",
   "id": "bbcd01a6-2d1b-4994-a288-7d179de917bc",
   "metadata": {},
   "source": [
    "### Wrangling & Standardizing Dates"
   ]
  },
  {
   "cell_type": "markdown",
   "id": "769c8498-a2da-4020-b494-149723016f4d",
   "metadata": {},
   "source": [
    "Create new columns to clean up trading date and convert to pandas timestamp"
   ]
  },
  {
   "cell_type": "code",
   "execution_count": 5,
   "id": "396266d3-4753-414f-a327-d58a29ec0592",
   "metadata": {},
   "outputs": [],
   "source": [
    "df.columns = df.columns.str.lower()"
   ]
  },
  {
   "cell_type": "code",
   "execution_count": 6,
   "id": "4ba4e895-b2d1-4676-9405-dcd77b963496",
   "metadata": {},
   "outputs": [],
   "source": [
    "# The .str accessor allows us to apply string operations to each element of the column\n",
    "# astype(int) method to convert the resulting string values to integers. \n",
    "df[\"year\"] = df[\"trading_date\"].str[:4].astype(int)\n",
    "df[\"month\"] = df[\"trading_date\"].str[4:6].astype(int)\n",
    "df[\"day\"] = df[\"trading_date\"].str[6:8].astype(int)\n",
    "df[\"hour\"] = df[\"trading_date\"].str[9:11].astype(int)\n",
    "df[\"minute\"] = df[\"trading_date\"].str[12:14].astype(int)\n",
    "df[\"second\"] = df[\"trading_date\"].str[15:17].astype(int)"
   ]
  },
  {
   "cell_type": "code",
   "execution_count": 7,
   "id": "11c76b79-6626-47eb-a5f5-9390c3e78746",
   "metadata": {},
   "outputs": [
    {
     "name": "stdout",
     "output_type": "stream",
     "text": [
      "0        2023-06-26 13:04:00\n",
      "1        2023-06-26 13:03:00\n",
      "2        2023-06-26 13:02:00\n",
      "3        2023-06-26 13:01:00\n",
      "4        2023-06-26 11:30:00\n",
      "                 ...        \n",
      "340940   2017-11-06 09:04:00\n",
      "340941   2017-11-06 09:03:00\n",
      "340942   2017-11-06 09:02:00\n",
      "340943   2017-11-06 09:01:00\n",
      "340944   2017-11-06 09:00:00\n",
      "Length: 340945, dtype: datetime64[ns]\n"
     ]
    }
   ],
   "source": [
    "datetime = pd.to_datetime(df[['year', 'month', 'day', 'hour', 'minute', 'second']])\n",
    "\n",
    "#Round the datetime to the nearest minute\n",
    "rounded_datetime = pd.Series(datetime).dt.round(\"min\")\n",
    "\n",
    "print(rounded_datetime)"
   ]
  },
  {
   "cell_type": "code",
   "execution_count": 8,
   "id": "04e5a96b-c92f-4f04-9b1f-be5b411df4d3",
   "metadata": {},
   "outputs": [],
   "source": [
    "# Set datetime as index\n",
    "df.set_index(rounded_datetime, inplace = True)\n",
    "\n",
    "# Adjust hour, min to reflect new rounded. Drop 'second' column\n",
    "df[\"hour\"] = df.index.hour\n",
    "df[\"minute\"] = df.index.minute\n",
    "df = df.drop(\"second\", axis=\"columns\")"
   ]
  },
  {
   "cell_type": "markdown",
   "id": "d688fa81-058d-420d-b552-26fa6cac8e13",
   "metadata": {},
   "source": [
    "Create a template that has sequential minute index at desirable timeframe"
   ]
  },
  {
   "cell_type": "code",
   "execution_count": 9,
   "id": "b1b02e17-9cd3-4e9c-8e8a-4fd3cc1989cb",
   "metadata": {},
   "outputs": [
    {
     "data": {
      "text/html": [
       "<div>\n",
       "<style scoped>\n",
       "    .dataframe tbody tr th:only-of-type {\n",
       "        vertical-align: middle;\n",
       "    }\n",
       "\n",
       "    .dataframe tbody tr th {\n",
       "        vertical-align: top;\n",
       "    }\n",
       "\n",
       "    .dataframe thead th {\n",
       "        text-align: right;\n",
       "    }\n",
       "</style>\n",
       "<table border=\"1\" class=\"dataframe\">\n",
       "  <thead>\n",
       "    <tr style=\"text-align: right;\">\n",
       "      <th></th>\n",
       "    </tr>\n",
       "    <tr>\n",
       "      <th>datetime</th>\n",
       "    </tr>\n",
       "  </thead>\n",
       "  <tbody>\n",
       "    <tr>\n",
       "      <th>2017-11-06 09:00:00</th>\n",
       "    </tr>\n",
       "    <tr>\n",
       "      <th>2017-11-06 09:01:00</th>\n",
       "    </tr>\n",
       "    <tr>\n",
       "      <th>2017-11-06 09:02:00</th>\n",
       "    </tr>\n",
       "    <tr>\n",
       "      <th>2017-11-06 09:03:00</th>\n",
       "    </tr>\n",
       "    <tr>\n",
       "      <th>2017-11-06 09:04:00</th>\n",
       "    </tr>\n",
       "    <tr>\n",
       "      <th>...</th>\n",
       "    </tr>\n",
       "    <tr>\n",
       "      <th>2023-06-23 14:26:00</th>\n",
       "    </tr>\n",
       "    <tr>\n",
       "      <th>2023-06-23 14:27:00</th>\n",
       "    </tr>\n",
       "    <tr>\n",
       "      <th>2023-06-23 14:28:00</th>\n",
       "    </tr>\n",
       "    <tr>\n",
       "      <th>2023-06-23 14:29:00</th>\n",
       "    </tr>\n",
       "    <tr>\n",
       "      <th>2023-06-23 14:30:00</th>\n",
       "    </tr>\n",
       "  </tbody>\n",
       "</table>\n",
       "<p>497552 rows × 0 columns</p>\n",
       "</div>"
      ],
      "text/plain": [
       "Empty DataFrame\n",
       "Columns: []\n",
       "Index: [2017-11-06 09:00:00, 2017-11-06 09:01:00, 2017-11-06 09:02:00, 2017-11-06 09:03:00, 2017-11-06 09:04:00, 2017-11-06 09:05:00, 2017-11-06 09:06:00, 2017-11-06 09:07:00, 2017-11-06 09:08:00, 2017-11-06 09:09:00, 2017-11-06 09:10:00, 2017-11-06 09:11:00, 2017-11-06 09:12:00, 2017-11-06 09:13:00, 2017-11-06 09:14:00, 2017-11-06 09:15:00, 2017-11-06 09:16:00, 2017-11-06 09:17:00, 2017-11-06 09:18:00, 2017-11-06 09:19:00, 2017-11-06 09:20:00, 2017-11-06 09:21:00, 2017-11-06 09:22:00, 2017-11-06 09:23:00, 2017-11-06 09:24:00, 2017-11-06 09:25:00, 2017-11-06 09:26:00, 2017-11-06 09:27:00, 2017-11-06 09:28:00, 2017-11-06 09:29:00, 2017-11-06 09:30:00, 2017-11-06 09:31:00, 2017-11-06 09:32:00, 2017-11-06 09:33:00, 2017-11-06 09:34:00, 2017-11-06 09:35:00, 2017-11-06 09:36:00, 2017-11-06 09:37:00, 2017-11-06 09:38:00, 2017-11-06 09:39:00, 2017-11-06 09:40:00, 2017-11-06 09:41:00, 2017-11-06 09:42:00, 2017-11-06 09:43:00, 2017-11-06 09:44:00, 2017-11-06 09:45:00, 2017-11-06 09:46:00, 2017-11-06 09:47:00, 2017-11-06 09:48:00, 2017-11-06 09:49:00, 2017-11-06 09:50:00, 2017-11-06 09:51:00, 2017-11-06 09:52:00, 2017-11-06 09:53:00, 2017-11-06 09:54:00, 2017-11-06 09:55:00, 2017-11-06 09:56:00, 2017-11-06 09:57:00, 2017-11-06 09:58:00, 2017-11-06 09:59:00, 2017-11-06 10:00:00, 2017-11-06 10:01:00, 2017-11-06 10:02:00, 2017-11-06 10:03:00, 2017-11-06 10:04:00, 2017-11-06 10:05:00, 2017-11-06 10:06:00, 2017-11-06 10:07:00, 2017-11-06 10:08:00, 2017-11-06 10:09:00, 2017-11-06 10:10:00, 2017-11-06 10:11:00, 2017-11-06 10:12:00, 2017-11-06 10:13:00, 2017-11-06 10:14:00, 2017-11-06 10:15:00, 2017-11-06 10:16:00, 2017-11-06 10:17:00, 2017-11-06 10:18:00, 2017-11-06 10:19:00, 2017-11-06 10:20:00, 2017-11-06 10:21:00, 2017-11-06 10:22:00, 2017-11-06 10:23:00, 2017-11-06 10:24:00, 2017-11-06 10:25:00, 2017-11-06 10:26:00, 2017-11-06 10:27:00, 2017-11-06 10:28:00, 2017-11-06 10:29:00, 2017-11-06 10:30:00, 2017-11-06 10:31:00, 2017-11-06 10:32:00, 2017-11-06 10:33:00, 2017-11-06 10:34:00, 2017-11-06 10:35:00, 2017-11-06 10:36:00, 2017-11-06 10:37:00, 2017-11-06 10:38:00, 2017-11-06 10:39:00, ...]\n",
       "\n",
       "[497552 rows x 0 columns]"
      ]
     },
     "execution_count": 9,
     "metadata": {},
     "output_type": "execute_result"
    }
   ],
   "source": [
    "# Define the start and end dates\n",
    "start_date = pd.to_datetime('2017-11-06').replace(hour=9, minute=0)\n",
    "end_date = pd.to_datetime('2023-06-23').replace(hour=14, minute=30)\n",
    "\n",
    "# Generate the date range for each day\n",
    "dates = pd.date_range(start=start_date, end=end_date, freq='D')\n",
    "\n",
    "# Create an empty list to store the datetime series\n",
    "datetime_series = []\n",
    "\n",
    "# Iterate over each day in the date range\n",
    "for date in dates:\n",
    "    # Generate the datetime series for each day between 9AM and 2:30PM\n",
    "    morning_range = pd.date_range(start=date, end=date.replace(hour=11, minute=30), freq='min')\n",
    "    afternoon_range = pd.date_range(start=date.replace(hour=13,minute=0), end=date.replace(hour=14, minute=30), freq='min')\n",
    "    datetime_series.extend(morning_range)\n",
    "    datetime_series.extend(afternoon_range)\n",
    "\n",
    "# Create a new template dataframe and set datetime series as index\n",
    "template_df = pd.DataFrame({'datetime': datetime_series})\n",
    "template_df.set_index('datetime', inplace=True)\n",
    "\n",
    "# Print the new DataFrame\n",
    "template_df"
   ]
  },
  {
   "cell_type": "code",
   "execution_count": 10,
   "id": "12b8f646-7f6d-4d18-b94e-e429e4eece4b",
   "metadata": {},
   "outputs": [],
   "source": [
    "# Perform left join\n",
    "df = template_df.merge(df, how='left', left_index=True, right_index=True)"
   ]
  },
  {
   "cell_type": "code",
   "execution_count": 11,
   "id": "e0c969ed-08b2-4183-a647-73a837d5f277",
   "metadata": {},
   "outputs": [],
   "source": [
    "df[\"datetime\"] = df.index"
   ]
  },
  {
   "cell_type": "code",
   "execution_count": 12,
   "id": "7d42dd13-9881-40c7-a796-e3deb2820347",
   "metadata": {},
   "outputs": [],
   "source": [
    "# Group the DataFrame by the date component of the datetime index\n",
    "grouped = df.groupby(df.index.date)\n",
    "\n",
    "# Fill NaN rows with preceding non-NaN values within each group\n",
    "df = grouped.apply(lambda x: x.fillna(method='ffill'))\n",
    "\n",
    "df = df.reset_index(drop=True)\n",
    "df.set_index(\"datetime\", inplace=True)"
   ]
  },
  {
   "cell_type": "markdown",
   "id": "bbe7db5b-4f0b-484f-a178-f7bc15549730",
   "metadata": {},
   "source": [
    "Create a column to show the number of days until maturity of future contracts"
   ]
  },
  {
   "cell_type": "code",
   "execution_count": 13,
   "id": "ba8c2673-1b67-45ea-9ee1-0f0c384daa58",
   "metadata": {},
   "outputs": [],
   "source": [
    "#Group the DataFrame by date\n",
    "groups = df.groupby(df.index.date)\n",
    "days_to_maturity = pd.Series()\n",
    "\n",
    "for date, group in groups:\n",
    "    this_month_beg = group.index[0] - pd.offsets.MonthBegin()\n",
    "    this_month_end = this_month_beg + pd.offsets.MonthEnd()\n",
    "    next_month_beg = group.index[0] + pd.offsets.MonthBegin()\n",
    "    next_month_end = next_month_beg + pd.offsets.MonthEnd()\n",
    "    \n",
    "    third_thurs = pd.date_range(start = this_month_beg, end = this_month_end, freq = 'WOM-3THU')[0]\n",
    "\n",
    "    if group.index[0] <= third_thurs:\n",
    "        maturity = third_thurs\n",
    "    else:\n",
    "        maturity = pd.date_range(start = next_month_beg, end = next_month_end, freq = 'WOM-3THU')[0]\n",
    "    \n",
    "    days_diff = pd.Series(-(group.index - maturity).days)\n",
    "        \n",
    "    days_to_maturity = pd.concat([days_to_maturity, days_diff])"
   ]
  },
  {
   "cell_type": "markdown",
   "id": "d8ed2dd7-68c6-48e8-8362-8eae75c4fa10",
   "metadata": {},
   "source": [
    "Dropping all rows that still has NaN values, drop duplicates and rename & drop unnecessary columns"
   ]
  },
  {
   "cell_type": "code",
   "execution_count": 14,
   "id": "382d648f-76fc-41f0-9295-461c8a4a9a54",
   "metadata": {},
   "outputs": [],
   "source": [
    "df = df.dropna(axis=0, how=\"any\")"
   ]
  },
  {
   "cell_type": "markdown",
   "id": "6014774e-0ddc-4302-afc3-e31eec81377d",
   "metadata": {},
   "source": [
    "Renaming & drop unncessary columns"
   ]
  },
  {
   "cell_type": "code",
   "execution_count": 15,
   "id": "f126e5d2-b060-4dfb-b87a-55df0ba62dda",
   "metadata": {},
   "outputs": [
    {
     "name": "stderr",
     "output_type": "stream",
     "text": [
      "/var/folders/sh/hbp85fl56x95nw9ps4scnxlc0000gn/T/ipykernel_1671/4018561994.py:1: SettingWithCopyWarning: \n",
      "A value is trying to be set on a copy of a slice from a DataFrame\n",
      "\n",
      "See the caveats in the documentation: https://pandas.pydata.org/pandas-docs/stable/user_guide/indexing.html#returning-a-view-versus-a-copy\n",
      "  df.rename(columns = {\"open_price/1000\": \"open\", \"close_price/1000\": \"close\", \"high_price/1000\": \"high\", \"low_price/1000\": \"low\", \"trading_date\": \"raw_date\", \"open_interest\" : \"eod_open_interest\"}, inplace=True)\n"
     ]
    }
   ],
   "source": [
    "df.rename(columns = {\"open_price/1000\": \"open\", \"close_price/1000\": \"close\", \"high_price/1000\": \"high\", \"low_price/1000\": \"low\", \"trading_date\": \"raw_date\", \"open_interest\" : \"eod_open_interest\"}, inplace=True)\n",
    "\n",
    "df = df.drop(axis=1, labels=[\"year\", \"month\", \"day\", \"hour\", \"minute\"])"
   ]
  },
  {
   "cell_type": "code",
   "execution_count": 16,
   "id": "8ff35551-1337-421b-aa74-3343a1449f90",
   "metadata": {},
   "outputs": [],
   "source": [
    "# Check for duplicates in the index\n",
    "duplicates_index = df.index.duplicated(keep='last')\n",
    "\n",
    "df = df[~duplicates_index]"
   ]
  },
  {
   "cell_type": "code",
   "execution_count": 17,
   "id": "d9bdd122-8e95-451d-8642-7fb4a6792da4",
   "metadata": {},
   "outputs": [
    {
     "name": "stdout",
     "output_type": "stream",
     "text": [
      "The data series has 1407 days\n",
      "The data series has 339079 periods\n",
      "Each day the series has 241 rows\n"
     ]
    }
   ],
   "source": [
    "# Checking the number of data rows\n",
    "num_days = pd.Series(df.index.date).nunique()\n",
    "print(f\"The data series has {num_days} days\")\n",
    "print(f\"The data series has {df.shape[0]} periods\")\n",
    "print(f\"Each day the series has {round(df.shape[0] / num_days)} rows\")"
   ]
  },
  {
   "cell_type": "markdown",
   "id": "5c4f71f2-c27c-489f-808c-43f0c1d6d8be",
   "metadata": {},
   "source": [
    "### Create new features to mark dates & trading value"
   ]
  },
  {
   "cell_type": "code",
   "execution_count": 18,
   "id": "ac1f2bbf-f397-4068-8a9d-e9dfb84182da",
   "metadata": {},
   "outputs": [],
   "source": [
    "df['day_of_week'] = df.index.day_of_week\n",
    "df['day_of_year'] = df.index.day_of_year\n",
    "df['is_month_end'] = df.index.is_month_end.astype(int)\n",
    "df['is_month_start'] = df.index.is_month_start.astype(int)"
   ]
  },
  {
   "cell_type": "code",
   "execution_count": 19,
   "id": "dc5a117a-15e9-4067-a239-f38575a43cbc",
   "metadata": {},
   "outputs": [],
   "source": [
    "df['is_morning'] = np.where((df.index.hour < 12), 1, 0)"
   ]
  },
  {
   "cell_type": "code",
   "execution_count": 25,
   "id": "d19e4f5c-7526-4016-b412-d2e377c4d008",
   "metadata": {},
   "outputs": [],
   "source": [
    "df['est_average'] = (df[\"open\"] + df[\"close\"])/2\n",
    "df['est_trading_val'] = df['volume'] * df['est_average']"
   ]
  },
  {
   "cell_type": "code",
   "execution_count": 21,
   "id": "2a7d1eec-f056-419e-8579-d020c8e71ccf",
   "metadata": {},
   "outputs": [],
   "source": [
    "# Get cumulative trading value and volume\n",
    "df[\"cum_sum_tradingval\"] = df[\"est_trading_val\"].groupby(pd.Grouper(freq='D')).cumsum()\n",
    "df[\"cum_sum_volume\"] = df[\"volume\"].groupby(pd.Grouper(freq='D')).cumsum()\n",
    "df[\"cum_buy_volume\"] = df[\"buy_volume\"].groupby(pd.Grouper(freq='D')).cumsum()\n",
    "df[\"cum_sell_volume\"] = df[\"sell_volume\"].groupby(pd.Grouper(freq='D')).cumsum()"
   ]
  },
  {
   "cell_type": "code",
   "execution_count": 24,
   "id": "52a05ddd-6f08-4917-992e-fe50c0abcd68",
   "metadata": {},
   "outputs": [
    {
     "data": {
      "text/plain": [
       "Index(['symbol', 'raw_date', 'open', 'close', 'high', 'low',\n",
       "       'eod_open_interest', 'volume', 'buy_volume', 'sell_volume',\n",
       "       'day_of_week', 'day_of_year', 'is_month_end', 'is_month_start',\n",
       "       'is_morning', 'est_trading_val', 'cum_sum_tradingval', 'cum_sum_volume',\n",
       "       'cum_buy_volume', 'cum_sell_volume'],\n",
       "      dtype='object')"
      ]
     },
     "execution_count": 24,
     "metadata": {},
     "output_type": "execute_result"
    }
   ],
   "source": [
    "df.columns"
   ]
  },
  {
   "cell_type": "markdown",
   "id": "32ca21be-2394-41e2-b4d9-504cd3e430a7",
   "metadata": {},
   "source": [
    "### Resampling to get other time intervals"
   ]
  },
  {
   "cell_type": "code",
   "execution_count": 26,
   "id": "477a17c4-db1e-43d0-b3b6-dc67454fb644",
   "metadata": {},
   "outputs": [],
   "source": [
    "aggregations = {\n",
    "    'open': 'last',\n",
    "    'close': 'last',\n",
    "    'high' : 'max',\n",
    "    'low' : 'min',\n",
    "    'eod_open_interest' : 'last',\n",
    "    'volume' : 'sum',\n",
    "    'buy_volume': 'sum',\n",
    "    'sell_volume': 'sum',\n",
    "    'day_of_week': 'last',\n",
    "    'day_of_year': 'last',\n",
    "    'is_month_end': 'last',\n",
    "    'is_month_start': 'last',\n",
    "    'is_morning': 'last',\n",
    "    'est_trading_val': 'sum',\n",
    "    'est_average': 'mean',\n",
    "    'cum_sum_tradingval': 'last',\n",
    "    'cum_sum_volume': 'last',\n",
    "    'cum_buy_volume': 'last',\n",
    "    'cum_sell_volume': 'last',\n",
    "}\n",
    "\n",
    "df_1min = df\n",
    "df_5min = df.resample('5min', label='right', closed='right').agg(aggregations)\n",
    "df_10min = df.resample('10min', label='right', closed='right').agg(aggregations)\n",
    "df_15min = df.resample('15min', label='right', closed='right').agg(aggregations)\n",
    "df_30min = df.resample('30min', label='right', closed='right').agg(aggregations)"
   ]
  },
  {
   "cell_type": "code",
   "execution_count": 27,
   "id": "b332d67c-f515-4b23-bcbb-dc9b75f7acfa",
   "metadata": {},
   "outputs": [],
   "source": [
    "df_5min.dropna(axis=0, how='any', inplace=True)\n",
    "df_10min.dropna(axis=0, how='any', inplace=True)\n",
    "df_15min.dropna(axis=0, how='any', inplace=True)\n",
    "df_30min.dropna(axis=0, how='any', inplace=True)"
   ]
  },
  {
   "cell_type": "code",
   "execution_count": 28,
   "id": "e8a7c5f6-fd2a-4a04-8116-9498395f7bfa",
   "metadata": {},
   "outputs": [],
   "source": [
    "df_1min.to_csv(r\"../data/VN30F1M_1min_cleaned.csv\")\n",
    "df_5min.to_csv(r\"../data/VN30F1M_5min_cleaned.csv\")\n",
    "df_10min.to_csv(r\"../data/VN30F1M_10min_cleaned.csv\")\n",
    "df_15min.to_csv(r\"../data/VN30F1M_15min_cleaned.csv\")\n",
    "df_30min.to_csv(r\"../data/VN30F1M_30min_cleaned.csv\")"
   ]
  }
 ],
 "metadata": {
  "kernelspec": {
   "display_name": "Python 3 (ipykernel)",
   "language": "python",
   "name": "python3"
  },
  "language_info": {
   "codemirror_mode": {
    "name": "ipython",
    "version": 3
   },
   "file_extension": ".py",
   "mimetype": "text/x-python",
   "name": "python",
   "nbconvert_exporter": "python",
   "pygments_lexer": "ipython3",
   "version": "3.9.12"
  }
 },
 "nbformat": 4,
 "nbformat_minor": 5
}
